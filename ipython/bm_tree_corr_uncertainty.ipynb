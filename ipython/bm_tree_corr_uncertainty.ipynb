{
 "cells": [
  {
   "cell_type": "markdown",
   "id": "944c60ed",
   "metadata": {},
   "source": [
    "# Estimating Correlated Uncertainty from Fitted Blowers-Masel Trees\n"
   ]
  },
  {
   "cell_type": "markdown",
   "id": "faebbbe2",
   "metadata": {},
   "source": [
    "For each node in the kinetics rate rule family tree, we want to know how it depends on each training reaction.\n",
    "\n",
    "<img src=\"bm_tree_derivative_fig.png\" width=\"500\">"
   ]
  },
  {
   "cell_type": "markdown",
   "id": "77af6e26",
   "metadata": {},
   "source": [
    "Sensitivity S is the relative change in output $y$ over a given relative change in input $x$:\n",
    "$$S = \\frac{\\frac{dy}{y}}{\\frac{dx}{x}} = \\frac{\\frac{y_{perturbed} - y}{y}}{\\frac{x_{perturbed} - x}{x}} $$\n",
    "\n",
    "$$S = \\frac{dy}{dx}\\cdot \\frac{x}{y} $$\n",
    "\n",
    "Define the scale factor $a$:\n",
    "$$x_{perturbed} = ax$$\n",
    "\n",
    "$$x_{perturbed} = (a-1)x + x$$\n",
    "\n",
    "$$x_{perturbed} - x = (a-1)x$$\n",
    "\n",
    "$$\\frac{x_{perturbed} - x}{x} = a - 1$$\n",
    "\n",
    "$$\\frac{dx}{x} = a - 1$$\n",
    "\n",
    "$$S = \\frac{\\frac{dy}{y}}{a - 1}$$\n",
    "\n",
    "$$S = \\frac{d\\ln(y)}{a - 1}$$"
   ]
  },
  {
   "cell_type": "code",
   "execution_count": 1,
   "id": "bbe413e0",
   "metadata": {},
   "outputs": [],
   "source": [
    "import json\n",
    "\n",
    "from rmgpy.molecule.molecule import *\n",
    "from rmgpy.species import *\n",
    "from rmgpy.data.rmg import RMGDatabase\n",
    "from rmgpy.species import Species\n",
    "from rmgpy import settings\n",
    "\n",
    "import rmgpy\n",
    "from rmgpy import chemkin\n",
    "import numpy as np\n",
    "from copy import deepcopy\n",
    "import csv\n",
    "from rmgpy.molecule.molecule import *\n",
    "from rmgpy.species import *\n",
    "from rmgpy.chemkin import *\n",
    "import rmgpy.kinetics as _kinetics\n",
    "from rmgpy.data.rmg import RMGDatabase\n",
    "from IPython.display import display\n",
    "from rmgpy.data.thermo import ThermoLibrary\n",
    "from rmgpy.rmg.react import react\n",
    "from rmgpy.species import Species\n",
    "from rmgpy.reaction import Reaction\n",
    "from rmgpy.data.rmg import get_db\n",
    "from rmgpy.exceptions import UndeterminableKineticsError, ActionError\n",
    "from rmgpy.data.base import LogicOr\n",
    "from itertools import product\n",
    "from rmgpy.molecule.group import Group\n",
    "from rmgpy.kinetics.arrhenius import ArrheniusBM\n",
    "import time\n",
    "import scipy.special as special\n",
    "import matplotlib.pyplot as plt\n",
    "import matplotlib\n",
    "matplotlib.use('TkAgg')\n",
    "%matplotlib inline"
   ]
  },
  {
   "cell_type": "code",
   "execution_count": 2,
   "id": "b2d077e9",
   "metadata": {},
   "outputs": [],
   "source": [
    "## Load the database\n",
    "database = RMGDatabase()\n",
    "database.load(path=settings['database.directory'],\n",
    "              thermo_libraries=['Klippenstein_Glarborg2016', 'BurkeH2O2', 'thermo_DFT_CCSDTF12_BAC',\n",
    "                                'DFT_QCI_thermo', 'primaryThermoLibrary', 'primaryNS', 'NitrogenCurran',\n",
    "                                'NOx2018', 'FFCM1(-)', 'SulfurLibrary', 'SulfurGlarborgH2S', 'SABIC_aromatics'],\n",
    "              transport_libraries=[],\n",
    "              reaction_libraries=[],\n",
    "              seed_mechanisms=[],  # ['BurkeH2O2inN2','ERC-FoundationFuelv0.9'],\n",
    "              kinetics_families='all',\n",
    "              kinetics_depositories=['training'],\n",
    "              depository=False,  # Don't bother loading the depository information, as we don't use it\n",
    "              )"
   ]
  },
  {
   "cell_type": "code",
   "execution_count": 3,
   "id": "39e976d2",
   "metadata": {},
   "outputs": [
    {
     "name": "stderr",
     "output_type": "stream",
     "text": [
      "ERROR:root:4.0\n",
      "ERROR:root:iter_max achieved terminating early\n",
      "ERROR:root:iter_max achieved terminating early\n",
      "ERROR:root:iter_max achieved terminating early\n"
     ]
    },
    {
     "name": "stdout",
     "output_type": "stream",
     "text": [
      "Group Entries: 7\n"
     ]
    },
    {
     "name": "stderr",
     "output_type": "stream",
     "text": [
      "/home/moon/anaconda3/envs/rmg_env/lib/python3.7/site-packages/scipy/optimize/minpack.py:829: OptimizeWarning: Covariance of the parameters could not be estimated\n",
      "  category=OptimizeWarning)\n",
      "/home/moon/anaconda3/envs/rmg_env/lib/python3.7/site-packages/numpy/core/fromnumeric.py:2920: RuntimeWarning: Mean of empty slice.\n",
      "  out=out, **kwargs)\n",
      "/home/moon/anaconda3/envs/rmg_env/lib/python3.7/site-packages/numpy/core/_methods.py:85: RuntimeWarning: invalid value encountered in double_scalars\n",
      "  ret = ret.dtype.type(ret / rcount)\n"
     ]
    }
   ],
   "source": [
    "## Make the kinetics rate rule tree\n",
    "\n",
    "family = database.kinetics.families[\"Singlet_Carbene_Intra_Disproportionation\"]\n",
    "family.clean_tree()\n",
    "\n",
    "family.generate_tree(thermo_database=database.thermo,\n",
    "                     nprocs=1,\n",
    "                     new_fraction_threshold_to_reopt_node=0.25,\n",
    "                     max_batch_size=800,\n",
    "                     extension_iter_max=2,\n",
    "                     extension_iter_item_cap=100)\n",
    "\n",
    "print(f\"Group Entries: {len(family.groups.entries)}\")\n",
    "family.check_tree()\n",
    "family.regularize(thermo_database=database.thermo)\n",
    "templateRxnMap = family.get_reaction_matches(thermo_database=database.thermo, remove_degeneracy=True,\n",
    "                                             get_reverse=True, exact_matches_only=False, fix_labels=True)\n",
    "\n",
    "family.clean_tree_rules()\n",
    "family.make_bm_rules_from_template_rxn_map(templateRxnMap, compute_derivatives=True)"
   ]
  },
  {
   "cell_type": "code",
   "execution_count": 4,
   "id": "600782c6",
   "metadata": {},
   "outputs": [
    {
     "name": "stdout",
     "output_type": "stream",
     "text": [
      "BM rule fitted to 4 training reactions at node Root\n",
      "Total Standard Deviation in ln(k): 10.36278215827023\n",
      "sensitivities = [{'dA': 1.8261705171113347, 'dE0': 0.01614129151255035, 'dn': 0.10296844515154145, 'name': 'C6H6 <=> C6H6-2'}, {'dA': -5413.556724249416, 'dE0': -99.23615237168131, 'dn': -355.2462699571583, 'name': 'C6H6-3 <=> C6H6-4'}, {'dA': -6.7003636370777935, 'dE0': -0.07114290936806947, 'dn': -0.45360352147960353, 'name': '[C]1C=CC=CC1 <=> C6H6-5'}, {'dA': -4.169007026724355, 'dE0': -0.04522559674290594, 'dn': -0.28836856258954496, 'name': '[C]1C=CCC=C1 <=> C6H6-7'}]\n",
      "BM rule fitted to 2 training reactions at node Root_Ext-3C-R_Ext-4R!H-R_Sp-4R!H-1C\n",
      "Total Standard Deviation in ln(k): 9.762079318807448\n",
      "sensitivities = [{'dA': 0.4975766477373962, 'dE0': -37.666938775510175, 'dn': -2.9668649057030526e-06, 'name': 'C6H6 <=> C6H6-2'}, {'dA': 0.4975143957435253, 'dE0': -98.40868274582552, 'dn': 1.0933643724307169e-07, 'name': 'C6H6-3 <=> C6H6-4'}]\n",
      "BM rule fitted to 2 training reactions at node Root_Ext-3C-R_Ext-4R!H-R_N-Sp-4R!H-1C\n",
      "Total Standard Deviation in ln(k): 14.903532113840376\n",
      "sensitivities = [{'dA': 0.4975058626563107, 'dE0': -290.49750617627717, 'dn': 2.14567924307973e-07, 'name': '[C]1C=CC=CC1 <=> C6H6-5'}, {'dA': 349.3106865329214, 'dE0': -857.935978585093, 'dn': -6.573177137174851, 'name': '[C]1C=CCC=C1 <=> C6H6-7'}]\n",
      "BM rule fitted to 1 training reactions at node Root_Ext-3C-R_Ext-4R!H-R_Sp-4R!H-1C_Ext-4R!H-R_Ext-4R!H-R\n",
      "Total Standard Deviation in ln(k): 11.540182761524994\n",
      "sensitivities = [{'dA': 0.9950330853168756, 'dE0': 0.0, 'dn': 0.0, 'name': 'C6H6 <=> C6H6-2'}]\n",
      "BM rule fitted to 1 training reactions at node Root_Ext-3C-R_Ext-4R!H-R_N-Sp-4R!H-1C_Ext-4R!H-R_Ext-5R!H-R_Ext-5R!H-R_Sp-6R!H-5R!H\n",
      "Total Standard Deviation in ln(k): 11.540182761524994\n",
      "sensitivities = [{'dA': 0.9950330853165203, 'dE0': 0.0, 'dn': -0.0, 'name': '[C]1C=CC=CC1 <=> C6H6-5'}]\n",
      "BM rule fitted to 1 training reactions at node Root_Ext-3C-R_Ext-4R!H-R_N-Sp-4R!H-1C_Ext-4R!H-R_Ext-5R!H-R_Ext-5R!H-R_N-Sp-6R!H-5R!H\n",
      "Total Standard Deviation in ln(k): 11.540182761524994\n",
      "sensitivities = [{'dA': 0.9950330853168756, 'dE0': 0.0, 'dn': -0.0, 'name': '[C]1C=CCC=C1 <=> C6H6-7'}]\n"
     ]
    }
   ],
   "source": [
    "## unpack the sensitivites\n",
    "derivatives = {}\n",
    "for key in family.rules.entries.keys():\n",
    "    entry = family.rules.entries[key]\n",
    "    \n",
    "    if len(entry) == 0:\n",
    "        derivatives[key] = []\n",
    "        continue\n",
    "    entry = entry[0]\n",
    "    print(entry.long_desc)\n",
    "    start_str = 'sensitivities = '\n",
    "    start_index = entry.long_desc.find(start_str) + len(start_str)\n",
    "    sensitivities_str = entry.long_desc[start_index:].replace(\"'\", '\"')\n",
    "    derivatives[key] = json.loads(sensitivities_str)"
   ]
  },
  {
   "cell_type": "code",
   "execution_count": 53,
   "id": "6b05e6ee",
   "metadata": {},
   "outputs": [
    {
     "name": "stdout",
     "output_type": "stream",
     "text": [
      "Root\n",
      "\t C6H6 <=> C6H6-2 \tdA_node/dA_train= 1.8261705171113347 0.01614129151255035 0.10296844515154145\n",
      "\t C6H6-3 <=> C6H6-4 \tdA_node/dA_train= -5413.556724249416 -99.23615237168131 -355.2462699571583\n",
      "\t [C]1C=CC=CC1 <=> C6H6-5 \tdA_node/dA_train= -6.7003636370777935 -0.07114290936806947 -0.45360352147960353\n",
      "\t [C]1C=CCC=C1 <=> C6H6-7 \tdA_node/dA_train= -4.169007026724355 -0.04522559674290594 -0.28836856258954496\n",
      "Root_Ext-3C-R_Ext-4R!H-R_Sp-4R!H-1C\n",
      "\t C6H6 <=> C6H6-2 \tdA_node/dA_train= 0.4975766477373962 -37.666938775510175 -2.9668649057030526e-06\n",
      "\t C6H6-3 <=> C6H6-4 \tdA_node/dA_train= 0.4975143957435253 -98.40868274582552 1.0933643724307169e-07\n",
      "Root_Ext-3C-R_Ext-4R!H-R_N-Sp-4R!H-1C\n",
      "\t [C]1C=CC=CC1 <=> C6H6-5 \tdA_node/dA_train= 0.4975058626563107 -290.49750617627717 2.14567924307973e-07\n",
      "\t [C]1C=CCC=C1 <=> C6H6-7 \tdA_node/dA_train= 349.3106865329214 -857.935978585093 -6.573177137174851\n",
      "Root_Ext-3C-R_Ext-4R!H-R_Sp-4R!H-1C_Ext-4R!H-R_Ext-4R!H-R\n",
      "\t C6H6 <=> C6H6-2 \tdA_node/dA_train= 0.9950330853168756 0.0 0.0\n",
      "Root_Ext-3C-R_Ext-4R!H-R_N-Sp-4R!H-1C_Ext-4R!H-R_Ext-5R!H-R_Ext-5R!H-R_Sp-6R!H-5R!H\n",
      "\t [C]1C=CC=CC1 <=> C6H6-5 \tdA_node/dA_train= 0.9950330853165203 0.0 -0.0\n",
      "Root_Ext-3C-R_Ext-4R!H-R_N-Sp-4R!H-1C_Ext-4R!H-R_Ext-5R!H-R_Ext-5R!H-R_N-Sp-6R!H-5R!H\n",
      "\t [C]1C=CCC=C1 <=> C6H6-7 \tdA_node/dA_train= 0.9950330853168756 0.0 -0.0\n"
     ]
    }
   ],
   "source": [
    "# list the training reactions\n",
    "for key in family.rules.entries.keys():\n",
    "    entry = family.rules.entries[key]\n",
    "    if len(entry) == 0:\n",
    "        continue\n",
    "    print(entry[0])\n",
    "    for i, rxn in enumerate(templateRxnMap[key]):\n",
    "        print('\\t', rxn, f'\\tdA_node/dA_train=', derivatives[key][i]['dA'], derivatives[key][i]['dE0'], derivatives[key][i]['dn']) # derivatives[key][i]['name'])"
   ]
  },
  {
   "cell_type": "markdown",
   "id": "01ce2a10",
   "metadata": {},
   "source": [
    "## Try to visualize the fitting"
   ]
  },
  {
   "cell_type": "code",
   "execution_count": 68,
   "id": "d07d31d5",
   "metadata": {},
   "outputs": [
    {
     "data": {
      "image/png": "[encoded data removed]",
      "text/plain": [
       "<Figure size 432x288 with 1 Axes>"
      ]
     },
     "metadata": {
      "needs_background": "light"
     },
     "output_type": "display_data"
    }
   ],
   "source": [
    "import matplotlib.pyplot as plt\n",
    "# Plot ln(k) vs 1/T\n",
    "\n",
    "# Try this node first because it makes the most sense\n",
    "#Root_Ext-3C-R_Ext-4R!H-R_Sp-4R!H-1C\n",
    "# C6H6 <=> C6H6-2 \tdA_node/dA_train= 0.4975766477373962 -37.666938775510175 -2.9668649057030526e-06\n",
    "# C6H6-3 <=> C6H6-4 \tdA_node/dA_train= 0.4975143957435253 -98.40868274582552 1.0933643724307169e-07\n",
    "\n",
    "# Get this training reaction C6H6 <=> C6H6-2\n",
    "node_name = 'Root_Ext-3C-R_Ext-4R!H-R_N-Sp-4R!H-1C_Ext-4R!H-R_Ext-5R!H-R_Ext-5R!H-R_N-Sp-6R!H-5R!H'  # one training reaction\n",
    "node_name = 'Root_Ext-3C-R_Ext-4R!H-R_Sp-4R!H-1C'  # two training reactions\n",
    "node_name = 'Root'  # four training reactions\n",
    "\n",
    "\n",
    "Tmin = 300\n",
    "Tmax = 1500\n",
    "legend = []\n",
    "\n",
    "    \n",
    "def estimate_delta_H(T):\n",
    "    dH = 0\n",
    "    for j, training_rxn in enumerate(templateRxnMap[node_name]):\n",
    "        dH += training_rxn.get_enthalpy_of_reaction(T)\n",
    "    return dH / float(len(templateRxnMap[node_name]))\n",
    "\n",
    "\n",
    "# plot the node's ln(k)\n",
    "legend.append(node_name)\n",
    "T = np.linspace(Tmin, Tmax, 100)\n",
    "T_inv = 1.0 / T\n",
    "lnk = np.zeros(len(T))\n",
    "for i, Temp in enumerate(T):\n",
    "    delta_h = estimate_delta_H(Temp)\n",
    "    lnk[i] = np.log(family.rules.entries[node_name][0].data.get_rate_coefficient(Temp, dHrxn=delta_h))\n",
    "plt.plot(T_inv, lnk)\n",
    "\n",
    "\n",
    "# Plot each training reaction's ln(k)\n",
    "for training_rxn in templateRxnMap[node_name]:\n",
    "    legend.append(str(training_rxn))\n",
    "    for i, Temp in enumerate(T):\n",
    "        lnk[i] = np.log(training_rxn.kinetics.get_rate_coefficient(Temp))\n",
    "    plt.plot(T_inv, lnk)\n",
    "\n",
    "\n",
    "plt.ylabel('ln(k)')\n",
    "plt.xlabel('1/T')\n",
    "plt.legend(legend)\n",
    "plt.show()"
   ]
  },
  {
   "cell_type": "code",
   "execution_count": 24,
   "id": "71fabb44",
   "metadata": {},
   "outputs": [
    {
     "data": {
      "text/plain": [
       "2845461777581.945"
      ]
     },
     "execution_count": 24,
     "metadata": {},
     "output_type": "execute_result"
    }
   ],
   "source": [
    "# node kinetics\n",
    "\n",
    "# dir(family.rules.entries[node_name][0].item)\n",
    "\n",
    "T = 300\n",
    "P = 1013250\n",
    "training_rxn.kinetics.get_rate_coefficient(T)\n"
   ]
  },
  {
   "cell_type": "code",
   "execution_count": 27,
   "id": "31c204f3",
   "metadata": {},
   "outputs": [
    {
     "data": {
      "text/plain": [
       "ArrheniusBM(A=(1234.65,'s^-1'), n=2.90797, w0=(539000,'J/mol'), E0=(53900,'J/mol'), Tmin=(300,'K'), Tmax=(1500,'K'), uncertainty=RateUncertainty(mu=2.0720040911798123, var=5.164887496394838, Tref=1000.0, N=2, data_mean=0.0, correlation='Root_Ext-3C-R_Ext-4R!H-R_Sp-4R!H-1C',), comment=\"\"\"BM rule fitted to 2 training reactions at node Root_Ext-3C-R_Ext-4R!H-R_Sp-4R!H-1C\n",
       "Total Standard Deviation in ln(k): 9.762079318807448\"\"\")"
      ]
     },
     "execution_count": 27,
     "metadata": {},
     "output_type": "execute_result"
    }
   ],
   "source": [
    "family.rules.entries[node_name][0].data"
   ]
  },
  {
   "cell_type": "code",
   "execution_count": 44,
   "id": "d13cf94a",
   "metadata": {},
   "outputs": [
    {
     "name": "stdout",
     "output_type": "stream",
     "text": [
      "<class 'rmgpy.kinetics.arrhenius.ArrheniusBM'>\n"
     ]
    },
    {
     "data": {
      "text/plain": [
       "['__class__',\n",
       " '__deepcopy__',\n",
       " '__delattr__',\n",
       " '__dir__',\n",
       " '__doc__',\n",
       " '__eq__',\n",
       " '__format__',\n",
       " '__ge__',\n",
       " '__getattribute__',\n",
       " '__gt__',\n",
       " '__hash__',\n",
       " '__init__',\n",
       " '__init_subclass__',\n",
       " '__le__',\n",
       " '__lt__',\n",
       " '__ne__',\n",
       " '__new__',\n",
       " '__pyx_vtable__',\n",
       " '__reduce__',\n",
       " '__reduce_ex__',\n",
       " '__repr__',\n",
       " '__setattr__',\n",
       " '__sizeof__',\n",
       " '__str__',\n",
       " '__subclasshook__',\n",
       " '_explore_cycles_recursively',\n",
       " '_is_chain_in_cycle',\n",
       " '_merge_cycles',\n",
       " '_repr_png_',\n",
       " 'add_atom',\n",
       " 'add_bond',\n",
       " 'add_edge',\n",
       " 'add_explicit_ligands',\n",
       " 'add_implicit_atoms_from_atomtype',\n",
       " 'add_implicit_benzene',\n",
       " 'add_vertex',\n",
       " 'atoms',\n",
       " 'classify_benzene_carbons',\n",
       " 'clear_labeled_atoms',\n",
       " 'clear_reg_dims',\n",
       " 'contains_labeled_atom',\n",
       " 'contains_surface_site',\n",
       " 'copy',\n",
       " 'copy_and_map',\n",
       " 'create_and_connect_atom',\n",
       " 'draw',\n",
       " 'elementCount',\n",
       " 'find_isomorphism',\n",
       " 'find_subgraph_isomorphisms',\n",
       " 'from_adjacency_list',\n",
       " 'get_all_cycles',\n",
       " 'get_all_cycles_of_size',\n",
       " 'get_all_cyclic_vertices',\n",
       " 'get_all_edges',\n",
       " 'get_all_labeled_atoms',\n",
       " 'get_all_polycyclic_vertices',\n",
       " 'get_all_simple_cycles_of_size',\n",
       " 'get_bond',\n",
       " 'get_bonds',\n",
       " 'get_disparate_cycles',\n",
       " 'get_edge',\n",
       " 'get_edges',\n",
       " 'get_edges_in_cycle',\n",
       " 'get_element_count',\n",
       " 'get_extensions',\n",
       " 'get_labeled_atoms',\n",
       " 'get_largest_ring',\n",
       " 'get_max_cycle_overlap',\n",
       " 'get_monocycles',\n",
       " 'get_net_charge',\n",
       " 'get_polycycles',\n",
       " 'get_relevant_cycles',\n",
       " 'get_smallest_set_of_smallest_rings',\n",
       " 'get_surface_sites',\n",
       " 'has_atom',\n",
       " 'has_bond',\n",
       " 'has_edge',\n",
       " 'has_vertex',\n",
       " 'is_aromatic_ring',\n",
       " 'is_benzene_explicit',\n",
       " 'is_cyclic',\n",
       " 'is_edge_in_cycle',\n",
       " 'is_identical',\n",
       " 'is_isomorphic',\n",
       " 'is_mapping_valid',\n",
       " 'is_subgraph_isomorphic',\n",
       " 'is_surface_site',\n",
       " 'is_vertex_in_cycle',\n",
       " 'make_sample_molecule',\n",
       " 'merge',\n",
       " 'merge_groups',\n",
       " 'multiplicity',\n",
       " 'ordered_vertices',\n",
       " 'pick_wildcards',\n",
       " 'props',\n",
       " 'radicalCount',\n",
       " 'remove_atom',\n",
       " 'remove_bond',\n",
       " 'remove_edge',\n",
       " 'remove_van_der_waals_bonds',\n",
       " 'remove_vertex',\n",
       " 'reset_connectivity_values',\n",
       " 'reset_ring_membership',\n",
       " 'restore_vertex_order',\n",
       " 'sort_atoms',\n",
       " 'sort_by_connectivity',\n",
       " 'sort_cyclic_vertices',\n",
       " 'sort_vertices',\n",
       " 'specify_atom_extensions',\n",
       " 'specify_bond_extensions',\n",
       " 'specify_external_new_bond_extensions',\n",
       " 'specify_internal_new_bond_extensions',\n",
       " 'specify_ring_extensions',\n",
       " 'specify_unpaired_extensions',\n",
       " 'split',\n",
       " 'standardize_atomtype',\n",
       " 'standardize_group',\n",
       " 'to_adjacency_list',\n",
       " 'update',\n",
       " 'update_charge',\n",
       " 'update_connectivity_values',\n",
       " 'update_fingerprint',\n",
       " 'vertices']"
      ]
     },
     "execution_count": 44,
     "metadata": {},
     "output_type": "execute_result"
    }
   ],
   "source": [
    "print(type(family.rules.entries[node_name][0].data))\n",
    "dir(family.groups.entries[node_name].item)"
   ]
  },
  {
   "cell_type": "code",
   "execution_count": null,
   "id": "847efa40",
   "metadata": {},
   "outputs": [],
   "source": [
    "templateRxnMap['Root'][1]"
   ]
  },
  {
   "cell_type": "code",
   "execution_count": null,
   "id": "3393af58",
   "metadata": {},
   "outputs": [],
   "source": [
    "family.rules.entries"
   ]
  },
  {
   "cell_type": "code",
   "execution_count": null,
   "id": "8d55b92e",
   "metadata": {},
   "outputs": [],
   "source": [
    "family.groups.entries['Root_Ext-3C-R_Ext-4R!H-R_Sp-4R!H-1C'].item"
   ]
  },
  {
   "cell_type": "code",
   "execution_count": 62,
   "id": "173ecff6",
   "metadata": {},
   "outputs": [
    {
     "ename": "TypeError",
     "evalue": "get_enthalpy_of_reaction() takes exactly one argument (0 given)",
     "output_type": "error",
     "traceback": [
      "\u001b[0;31m---------------------------------------------------------------------------\u001b[0m",
      "\u001b[0;31mTypeError\u001b[0m                                 Traceback (most recent call last)",
      "\u001b[0;32m<ipython-input-62-f370e82c18b7>\u001b[0m in \u001b[0;36m<module>\u001b[0;34m\u001b[0m\n\u001b[0;32m----> 1\u001b[0;31m \u001b[0mtraining_rxn\u001b[0m\u001b[0;34m.\u001b[0m\u001b[0mget_enthalpy_of_reaction\u001b[0m\u001b[0;34m(\u001b[0m\u001b[0;34m)\u001b[0m\u001b[0;34m\u001b[0m\u001b[0;34m\u001b[0m\u001b[0m\n\u001b[0m",
      "\u001b[0;31mTypeError\u001b[0m: get_enthalpy_of_reaction() takes exactly one argument (0 given)"
     ]
    }
   ],
   "source": []
  },
  {
   "cell_type": "code",
   "execution_count": null,
   "id": "e4d906a2",
   "metadata": {},
   "outputs": [],
   "source": []
  }
 ],
 "metadata": {
  "kernelspec": {
   "display_name": "Python 3",
   "language": "python",
   "name": "python3"
  },
  "language_info": {
   "codemirror_mode": {
    "name": "ipython",
    "version": 3
   },
   "file_extension": ".py",
   "mimetype": "text/x-python",
   "name": "python",
   "nbconvert_exporter": "python",
   "pygments_lexer": "ipython3",
   "version": "3.7.10"
  }
 },
 "nbformat": 4,
 "nbformat_minor": 5
}
