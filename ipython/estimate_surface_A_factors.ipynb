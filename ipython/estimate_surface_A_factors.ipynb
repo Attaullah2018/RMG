{
 "cells": [
  {
   "cell_type": "code",
   "execution_count": 5,
   "id": "4a175662",
   "metadata": {},
   "outputs": [],
   "source": [
    "from rmgpy.data.rmg import RMGDatabase\n",
    "from rmgpy.kinetics import MultiArrhenius\n",
    "from rmgpy import settings\n",
    "\n",
    "from surface_A_factor import *\n",
    "from IPython.display import display\n",
    "import numpy as np\n",
    "import os"
   ]
  },
  {
   "cell_type": "code",
   "execution_count": 6,
   "id": "a08414a4",
   "metadata": {},
   "outputs": [
    {
     "data": {
      "text/plain": [
       "['Surface/cathub/Pd',\n",
       " 'Surface/cathub/Ni',\n",
       " 'Surface/cathub/Ir',\n",
       " 'Surface/cathub/Cu',\n",
       " 'Surface/cathub/Co',\n",
       " 'Surface/cathub/Fe',\n",
       " 'Surface/cathub/Ru',\n",
       " 'Surface/cathub/Rh',\n",
       " 'Surface/cathub/Pt',\n",
       " 'Surface/cathub/Ag',\n",
       " 'Surface/cathub/Au',\n",
       " 'Surface/cathub/W']"
      ]
     },
     "execution_count": 6,
     "metadata": {},
     "output_type": "execute_result"
    }
   ],
   "source": [
    "libs = []\n",
    "p = 'Surface/cathub/'\n",
    "for e in os.listdir(os.path.join(settings['database.directory'],'kinetics','libraries',p)):\n",
    "    libs.append(os.path.join(p,e))\n",
    "libs"
   ]
  },
  {
   "cell_type": "code",
   "execution_count": 7,
   "id": "84ef9667",
   "metadata": {},
   "outputs": [
    {
     "name": "stderr",
     "output_type": "stream",
     "text": [
      "WARNING:root:An instance of RMGDatabase already exists. Re-initializing it.\n"
     ]
    }
   ],
   "source": [
    "database = RMGDatabase()\n",
    "database.load(\n",
    "    settings['database.directory'],\n",
    "    thermo_libraries=[\n",
    "     'primaryThermoLibrary','DFT_QCI_thermo','surfaceThermoPt111','thermo_DFT_CCSDTF12_BAC',\n",
    "        'CHON_G4', 'NISTThermoLibrary','BurcatNS','JetSurF2.0',\n",
    "    ],# can add more\n",
    "    transport_libraries=[],\n",
    "    reaction_libraries=libs,\n",
    "    seed_mechanisms=[],\n",
    "    kinetics_families=\"None\",\n",
    "    kinetics_depositories=[],\n",
    "    statmech_libraries=[],\n",
    "    depository=[],\n",
    "    solvation=False,\n",
    "    surface=True,\n",
    "    testing=False,\n",
    ")"
   ]
  },
  {
   "cell_type": "code",
   "execution_count": 8,
   "id": "fa5d6520",
   "metadata": {},
   "outputs": [
    {
     "name": "stdout",
     "output_type": "stream",
     "text": [
      "processing Surface/cathub/Pd...\n",
      "processing Surface/cathub/Ni...\n",
      "processing Surface/cathub/Ir...\n",
      "processing Surface/cathub/Cu...\n",
      "processing Surface/cathub/Co...\n",
      "processing Surface/cathub/Fe...\n",
      "processing Surface/cathub/Ru...\n",
      "processing Surface/cathub/Rh...\n",
      "processing Surface/cathub/Pt...\n",
      "processing Surface/cathub/Ag...\n",
      "processing Surface/cathub/Au...\n",
      "processing Surface/cathub/W...\n"
     ]
    }
   ],
   "source": [
    "for name,library in database.kinetics.libraries.items():\n",
    "    print(f'processing {name}...')\n",
    "    for i,entry in library.entries.items():\n",
    "        A,comment = estimate_surface_A(entry.item)\n",
    "        entry.long_desc += '\\n'\n",
    "        entry.long_desc += comment\n",
    "        if isinstance(entry.data,MultiArrhenius):\n",
    "            for arr in entry.data.arrhenius:\n",
    "                arr.A = A\n",
    "        else:\n",
    "            entry.data.A = A\n",
    "    path = os.path.join(settings['database.directory'],'kinetics','libraries',name,'reactions.py')\n",
    "    library.save(path)"
   ]
  }
 ],
 "metadata": {
  "kernelspec": {
   "display_name": "Python 3",
   "language": "python",
   "name": "python3"
  },
  "language_info": {
   "codemirror_mode": {
    "name": "ipython",
    "version": 3
   },
   "file_extension": ".py",
   "mimetype": "text/x-python",
   "name": "python",
   "nbconvert_exporter": "python",
   "pygments_lexer": "ipython3",
   "version": "3.7.10"
  }
 },
 "nbformat": 4,
 "nbformat_minor": 5
}
