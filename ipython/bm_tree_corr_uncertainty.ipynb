{
 "cells": [
  {
   "cell_type": "markdown",
   "id": "944c60ed",
   "metadata": {},
   "source": [
    "# Estimating Correlated Uncertainty from Fitted Blowers-Masel Trees\n"
   ]
  },
  {
   "cell_type": "markdown",
   "id": "faebbbe2",
   "metadata": {},
   "source": [
    "For each node in the kinetics rate rule family tree, we want to know how it depends on each training reaction.\n",
    "\n",
    "<img src=\"bm_tree_derivative_fig.png\" width=\"500\">"
   ]
  },
  {
   "cell_type": "markdown",
   "id": "77af6e26",
   "metadata": {},
   "source": [
    "Sensitivity S is the relative change in output $y$ over a given relative change in input $x$:\n",
    "$$S = \\frac{\\frac{dy}{y}}{\\frac{dx}{x}} = \\frac{\\frac{y_{perturbed} - y}{y}}{\\frac{x_{perturbed} - x}{x}} $$\n",
    "\n",
    "$$S = \\frac{dy}{dx}\\cdot \\frac{x}{y} $$\n",
    "\n",
    "Define the scale factor $a$:\n",
    "$$x_{perturbed} = ax$$\n",
    "\n",
    "$$x_{perturbed} = (a-1)x + x$$\n",
    "\n",
    "$$x_{perturbed} - x = (a-1)x$$\n",
    "\n",
    "$$\\frac{x_{perturbed} - x}{x} = a - 1$$\n",
    "\n",
    "$$\\frac{dx}{x} = a - 1$$\n",
    "\n",
    "$$S = \\frac{\\frac{dy}{y}}{a - 1}$$\n",
    "\n",
    "$$S = \\frac{d\\ln(y)}{a - 1}$$"
   ]
  },
  {
   "cell_type": "code",
   "execution_count": 1,
   "id": "bbe413e0",
   "metadata": {},
   "outputs": [],
   "source": [
    "import json\n",
    "\n",
    "from rmgpy.molecule.molecule import *\n",
    "from rmgpy.species import *\n",
    "from rmgpy.data.rmg import RMGDatabase\n",
    "from rmgpy.species import Species\n",
    "from rmgpy import settings\n",
    "\n",
    "import rmgpy\n",
    "from rmgpy import chemkin\n",
    "import numpy as np\n",
    "from copy import deepcopy\n",
    "import csv\n",
    "from rmgpy.molecule.molecule import *\n",
    "from rmgpy.species import *\n",
    "from rmgpy.chemkin import *\n",
    "import rmgpy.kinetics as _kinetics\n",
    "from rmgpy.data.rmg import RMGDatabase\n",
    "from IPython.display import display\n",
    "from rmgpy.data.thermo import ThermoLibrary\n",
    "from rmgpy.rmg.react import react\n",
    "from rmgpy.species import Species\n",
    "from rmgpy.reaction import Reaction\n",
    "from rmgpy.data.rmg import get_db\n",
    "from rmgpy.exceptions import UndeterminableKineticsError, ActionError\n",
    "from rmgpy.data.base import LogicOr\n",
    "from itertools import product\n",
    "from rmgpy.molecule.group import Group\n",
    "from rmgpy.kinetics.arrhenius import ArrheniusBM\n",
    "import time\n",
    "import scipy.special as special\n",
    "import matplotlib.pyplot as plt\n",
    "import matplotlib\n",
    "matplotlib.use('TkAgg')\n",
    "%matplotlib inline"
   ]
  },
  {
   "cell_type": "code",
   "execution_count": 2,
   "id": "b2d077e9",
   "metadata": {},
   "outputs": [],
   "source": [
    "## Load the database\n",
    "database = RMGDatabase()\n",
    "database.load(path=settings['database.directory'],\n",
    "              thermo_libraries=['Klippenstein_Glarborg2016', 'BurkeH2O2', 'thermo_DFT_CCSDTF12_BAC',\n",
    "                                'DFT_QCI_thermo', 'primaryThermoLibrary', 'primaryNS', 'NitrogenCurran',\n",
    "                                'NOx2018', 'FFCM1(-)', 'SulfurLibrary', 'SulfurGlarborgH2S', 'SABIC_aromatics'],\n",
    "              transport_libraries=[],\n",
    "              reaction_libraries=[],\n",
    "              seed_mechanisms=[],  # ['BurkeH2O2inN2','ERC-FoundationFuelv0.9'],\n",
    "              kinetics_families= ['Singlet_Carbene_Intra_Disproportionation'], # 'all'\n",
    "              kinetics_depositories=['training'],\n",
    "              depository=False,  # Don't bother loading the depository information, as we don't use it\n",
    "              )"
   ]
  },
  {
   "cell_type": "code",
   "execution_count": 3,
   "id": "39e976d2",
   "metadata": {},
   "outputs": [
    {
     "name": "stderr",
     "output_type": "stream",
     "text": [
      "ERROR:root:4.0\n",
      "ERROR:root:iter_max achieved terminating early\n",
      "ERROR:root:iter_max achieved terminating early\n",
      "ERROR:root:iter_max achieved terminating early\n"
     ]
    },
    {
     "name": "stdout",
     "output_type": "stream",
     "text": [
      "Group Entries: 7\n"
     ]
    },
    {
     "name": "stderr",
     "output_type": "stream",
     "text": [
      "/home/moon/anaconda3/envs/rmg_env/lib/python3.7/site-packages/numpy/core/fromnumeric.py:2920: RuntimeWarning: Mean of empty slice.\n",
      "  out=out, **kwargs)\n",
      "/home/moon/anaconda3/envs/rmg_env/lib/python3.7/site-packages/numpy/core/_methods.py:85: RuntimeWarning: invalid value encountered in double_scalars\n",
      "  ret = ret.dtype.type(ret / rcount)\n",
      "/home/moon/anaconda3/envs/rmg_env/lib/python3.7/site-packages/scipy/optimize/minpack.py:829: OptimizeWarning: Covariance of the parameters could not be estimated\n",
      "  category=OptimizeWarning)\n",
      "/home/moon/rmg/RMG-Py/rmgpy/data/kinetics/family.py:4740: RuntimeWarning: invalid value encountered in log\n",
      "  sensitivity_E0_only = (np.log(kin_perturbed_onlyE0.E0.value_si) - np.log(kin.E0.value_si)) / (SCALE_FACTOR - 1)\n"
     ]
    }
   ],
   "source": [
    "## Make the kinetics rate rule tree\n",
    "\n",
    "family = database.kinetics.families[\"Singlet_Carbene_Intra_Disproportionation\"]\n",
    "family.clean_tree()\n",
    "\n",
    "family.generate_tree(thermo_database=database.thermo,\n",
    "                     nprocs=1,\n",
    "                     new_fraction_threshold_to_reopt_node=0.25,\n",
    "                     max_batch_size=800,\n",
    "                     extension_iter_max=2,\n",
    "                     extension_iter_item_cap=100)\n",
    "\n",
    "print(f\"Group Entries: {len(family.groups.entries)}\")\n",
    "family.check_tree()\n",
    "family.regularize(thermo_database=database.thermo)\n",
    "templateRxnMap = family.get_reaction_matches(thermo_database=database.thermo, remove_degeneracy=True,\n",
    "                                             get_reverse=True, exact_matches_only=False, fix_labels=True)\n",
    "\n",
    "family.clean_tree_rules()\n",
    "family.make_bm_rules_from_template_rxn_map(templateRxnMap, compute_derivatives=True)"
   ]
  },
  {
   "cell_type": "code",
   "execution_count": 4,
   "id": "600782c6",
   "metadata": {
    "scrolled": true
   },
   "outputs": [
    {
     "name": "stdout",
     "output_type": "stream",
     "text": [
      "[{\"dA\": 1.844369109093894, \"dA_only\": 0.2498761670608749, \"dE0\": 0.016316141432657146, \"dE0_only\": -0.01801340076213108, \"dn\": 0.10408387868395573, \"name\": \"C6H6 <=> C6H6-2\"}, {\"dA\": 10.10616532170983, \"dA_only\": 0.24987618618157992, \"dE0\": 0.10086970787159137, \"dE0_only\": -0.010901484785109751, \"dn\": 0.643379006838068, \"name\": \"C6H6-3 <=> C6H6-4\"}, {\"dA\": -6.721413412500284, \"dA_only\": 0.24987623185526697, \"dE0\": -0.07136528364484665, \"dE0_only\": -0.025400653285603834, \"dn\": -0.4550446952624657, \"name\": \"[C]1C=CC=CC1 <=> C6H6-5\"}, {\"dA\": -4.178834830505201, \"dA_only\": 0.24987558918357333, \"dE0\": -0.04533679390488211, \"dE0_only\": -0.02320924949295289, \"dn\": -0.2890799235278226, \"name\": \"[C]1C=CCC=C1 <=> C6H6-7\"}]\n",
      "[{\"dA\": 0.5006463776720534, \"dA_only\": 0.4997529958875031, \"dE0\": 0.0, \"dE0_only\": 0.0, \"dn\": -4.4158704501678525e-05, \"name\": \"C6H6 <=> C6H6-2\"}, {\"dA\": 0.4999330041402512, \"dA_only\": 0.49975182833877874, \"dE0\": 0.0, \"dE0_only\": 0.0, \"dn\": -8.955285163305893e-06, \"name\": \"C6H6-3 <=> C6H6-4\"}]\n",
      "[{\"dA\": 0.49971930693720695, \"dA_only\": 0.49975023824094755, \"dE0\": -0.0, \"dE0_only\": \"-9999999\", \"dn\": 6.259888071237414e-07, \"name\": \"[C]1C=CC=CC1 <=> C6H6-5\"}, {\"dA\": 0.5001937212796843, \"dA_only\": 0.49975058912826675, \"dE0\": -0.0, \"dE0_only\": \"-9999999\", \"dn\": -8.907492007564604e-06, \"name\": \"[C]1C=CCC=C1 <=> C6H6-7\"}]\n",
      "[{\"dA\": 0.9995003330837129, \"dA_only\": 0.9995003330837129, \"dE0\": 0.0, \"dE0_only\": 0.0, \"dn\": 0.0, \"name\": \"C6H6 <=> C6H6-2\"}]\n",
      "[{\"dA\": 0.9995003330801602, \"dA_only\": 0.9995003330801602, \"dE0\": 0.0, \"dE0_only\": 0.0, \"dn\": -0.0, \"name\": \"[C]1C=CC=CC1 <=> C6H6-5\"}]\n",
      "[{\"dA\": 0.9995003330837129, \"dA_only\": 0.9995003330837129, \"dE0\": 0.0, \"dE0_only\": 0.0, \"dn\": -0.0, \"name\": \"[C]1C=CCC=C1 <=> C6H6-7\"}]\n"
     ]
    }
   ],
   "source": [
    "## unpack the sensitivites\n",
    "derivatives = {}\n",
    "for key in family.rules.entries.keys():\n",
    "    entry = family.rules.entries[key]\n",
    "    \n",
    "    if len(entry) == 0:\n",
    "        derivatives[key] = []\n",
    "        continue\n",
    "    entry = entry[0]\n",
    "    # print(entry.long_desc)\n",
    "    start_str = 'sensitivities = '\n",
    "    start_index = entry.long_desc.find(start_str) + len(start_str)\n",
    "    sensitivities_str = entry.long_desc[start_index:].replace(\"'\", '\"')\n",
    "    sensitivities_str = sensitivities_str.replace(\"nan\", '\"-9999999\"')\n",
    "    print(sensitivities_str)\n",
    "    derivatives[key] = json.loads(sensitivities_str)"
   ]
  },
  {
   "cell_type": "code",
   "execution_count": 7,
   "id": "6b05e6ee",
   "metadata": {},
   "outputs": [
    {
     "name": "stdout",
     "output_type": "stream",
     "text": [
      "Root\n",
      "\t C6H6 <=> C6H6-2 \tdA_node/dA_train= 1.844369109093894 0.016316141432657146 0.10408387868395573\n",
      "\t C6H6-3 <=> C6H6-4 \tdA_node/dA_train= 10.10616532170983 0.10086970787159137 0.643379006838068\n",
      "\t [C]1C=CC=CC1 <=> C6H6-5 \tdA_node/dA_train= -6.721413412500284 -0.07136528364484665 -0.4550446952624657\n",
      "\t [C]1C=CCC=C1 <=> C6H6-7 \tdA_node/dA_train= -4.178834830505201 -0.04533679390488211 -0.2890799235278226\n",
      "Root_Ext-3C-R_Ext-4R!H-R_Sp-4R!H-1C\n",
      "\t C6H6 <=> C6H6-2 \tdA_node/dA_train= 0.5006463776720534 0.0 -4.4158704501678525e-05\n",
      "\t C6H6-3 <=> C6H6-4 \tdA_node/dA_train= 0.4999330041402512 0.0 -8.955285163305893e-06\n",
      "Root_Ext-3C-R_Ext-4R!H-R_N-Sp-4R!H-1C\n",
      "\t [C]1C=CC=CC1 <=> C6H6-5 \tdA_node/dA_train= 0.49971930693720695 -0.0 6.259888071237414e-07\n",
      "\t [C]1C=CCC=C1 <=> C6H6-7 \tdA_node/dA_train= 0.5001937212796843 -0.0 -8.907492007564604e-06\n",
      "Root_Ext-3C-R_Ext-4R!H-R_Sp-4R!H-1C_Ext-4R!H-R_Ext-4R!H-R\n",
      "\t C6H6 <=> C6H6-2 \tdA_node/dA_train= 0.9995003330837129 0.0 0.0\n",
      "Root_Ext-3C-R_Ext-4R!H-R_N-Sp-4R!H-1C_Ext-4R!H-R_Ext-5R!H-R_Ext-5R!H-R_Sp-6R!H-5R!H\n",
      "\t [C]1C=CC=CC1 <=> C6H6-5 \tdA_node/dA_train= 0.9995003330801602 0.0 -0.0\n",
      "Root_Ext-3C-R_Ext-4R!H-R_N-Sp-4R!H-1C_Ext-4R!H-R_Ext-5R!H-R_Ext-5R!H-R_N-Sp-6R!H-5R!H\n",
      "\t [C]1C=CCC=C1 <=> C6H6-7 \tdA_node/dA_train= 0.9995003330837129 0.0 -0.0\n"
     ]
    }
   ],
   "source": [
    "# list the training reactions\n",
    "for key in family.rules.entries.keys():\n",
    "    entry = family.rules.entries[key]\n",
    "    if len(entry) == 0:\n",
    "        continue\n",
    "    print(entry[0])\n",
    "    for i, rxn in enumerate(templateRxnMap[key]):\n",
    "        # keep other blowers masel params fixed, only change dA\n",
    "        # print('\\t', rxn, f'\\tdA_node/dA_train=', derivatives[key][i]['dA_only'], derivatives[key][i]['dE0_only']) # derivatives[key][i]['name'])\n",
    "        #print('\\t', rxn, f'\\tdA_node/dA_train=', derivatives[key][i]['dA_only']) # derivatives[key][i]['name'])\n",
    "        \n",
    "        \n",
    "        \n",
    "        # allow all blowers masel params to change freely\n",
    "        print('\\t', rxn, f'\\tdA_node/dA_train=', derivatives[key][i]['dA'], derivatives[key][i]['dE0'], derivatives[key][i]['dn']) # derivatives[key][i]['name'])"
   ]
  },
  {
   "cell_type": "markdown",
   "id": "01ce2a10",
   "metadata": {},
   "source": [
    "## Try to visualize the fitting"
   ]
  },
  {
   "cell_type": "code",
   "execution_count": null,
   "id": "d07d31d5",
   "metadata": {},
   "outputs": [],
   "source": [
    "import matplotlib.pyplot as plt\n",
    "# Plot ln(k) vs 1/T\n",
    "\n",
    "# Try this node first because it makes the most sense\n",
    "#Root_Ext-3C-R_Ext-4R!H-R_Sp-4R!H-1C\n",
    "# C6H6 <=> C6H6-2 \tdA_node/dA_train= 0.4975766477373962 -37.666938775510175 -2.9668649057030526e-06\n",
    "# C6H6-3 <=> C6H6-4 \tdA_node/dA_train= 0.4975143957435253 -98.40868274582552 1.0933643724307169e-07\n",
    "\n",
    "# Get this training reaction C6H6 <=> C6H6-2\n",
    "node_name = 'Root_Ext-3C-R_Ext-4R!H-R_N-Sp-4R!H-1C_Ext-4R!H-R_Ext-5R!H-R_Ext-5R!H-R_N-Sp-6R!H-5R!H'  # one training reaction\n",
    "# node_name = 'Root_Ext-3C-R_Ext-4R!H-R_Sp-4R!H-1C'  # two training reactions\n",
    "# node_name = 'Root'  # four training reactions\n",
    "\n",
    "\n",
    "Tmin = 300\n",
    "Tmax = 1500\n",
    "legend = []\n",
    "\n",
    "    \n",
    "def estimate_delta_H(T):\n",
    "    dH = 0\n",
    "    for j, training_rxn in enumerate(templateRxnMap[node_name]):\n",
    "        dH += training_rxn.get_enthalpy_of_reaction(T)\n",
    "    return dH / float(len(templateRxnMap[node_name]))\n",
    "\n",
    "\n",
    "# plot the node's ln(k)\n",
    "legend.append(node_name)\n",
    "T = np.linspace(Tmin, Tmax, 100)\n",
    "T_inv = 1.0 / T\n",
    "lnk = np.zeros(len(T))\n",
    "for i, Temp in enumerate(T):\n",
    "    delta_h = estimate_delta_H(Temp)\n",
    "    # delta_h = estimate_delta_H(1110)\n",
    "    lnk[i] = np.log(family.rules.entries[node_name][0].data.get_rate_coefficient(Temp, dHrxn=delta_h))\n",
    "plt.plot(T_inv, lnk)\n",
    "print(family.rules.entries[node_name][0].data)\n",
    "\n",
    "\n",
    "# Plot each training reaction's ln(k)\n",
    "for training_rxn in templateRxnMap[node_name]:\n",
    "    legend.append(str(training_rxn))\n",
    "    for i, Temp in enumerate(T):\n",
    "        lnk[i] = np.log(training_rxn.kinetics.get_rate_coefficient(Temp))\n",
    "    print(training_rxn.kinetics)\n",
    "    plt.plot(T_inv, lnk)\n",
    "\n",
    "\n",
    "plt.ylabel('ln(k)')\n",
    "plt.xlabel('1/T')\n",
    "plt.legend(legend)\n",
    "plt.show()"
   ]
  },
  {
   "cell_type": "code",
   "execution_count": null,
   "id": "fff9dc20",
   "metadata": {},
   "outputs": [],
   "source": [
    "# node kinetics\n",
    "\n",
    "# dir(family.rules.entries[node_name][0].item)\n",
    "\n",
    "T = 300\n",
    "P = 1013250\n",
    "training_rxn.kinetics.get_rate_coefficient(T)\n"
   ]
  },
  {
   "cell_type": "code",
   "execution_count": null,
   "id": "31c204f3",
   "metadata": {},
   "outputs": [],
   "source": [
    "family.rules.entries['Root_Ext-3C-R_Ext-4R!H-R_Sp-4R!H-1C'][0].data"
   ]
  },
  {
   "cell_type": "code",
   "execution_count": null,
   "id": "7c0108cd",
   "metadata": {},
   "outputs": [],
   "source": [
    "print(type(family.rules.entries[node_name][0].data))\n",
    "dir(family.groups.entries[node_name].item)"
   ]
  },
  {
   "cell_type": "code",
   "execution_count": null,
   "id": "847efa40",
   "metadata": {},
   "outputs": [],
   "source": [
    "templateRxnMap['Root'][1]"
   ]
  },
  {
   "cell_type": "code",
   "execution_count": null,
   "id": "3393af58",
   "metadata": {},
   "outputs": [],
   "source": [
    "family.rules.entries"
   ]
  },
  {
   "cell_type": "code",
   "execution_count": null,
   "id": "8d55b92e",
   "metadata": {},
   "outputs": [],
   "source": [
    "family.groups.entries['Root_Ext-3C-R_Ext-4R!H-R_Sp-4R!H-1C'].item"
   ]
  },
  {
   "cell_type": "code",
   "execution_count": null,
   "id": "173ecff6",
   "metadata": {},
   "outputs": [],
   "source": []
  },
  {
   "cell_type": "code",
   "execution_count": null,
   "id": "41dead08",
   "metadata": {},
   "outputs": [],
   "source": [
    "tree(\n",
    "\"\"\"\n",
    "L1: Root\n",
    "    L2: Root_Ext-3C-R_Ext-4R!H-R_Sp-4R!H-1C\n",
    "        L3: Root_Ext-3C-R_Ext-4R!H-R_Sp-4R!H-1C_Ext-4R!H-R_Ext-4R!H-R\n",
    "    L2: Root_Ext-3C-R_Ext-4R!H-R_N-Sp-4R!H-1C\n",
    "        L3: Root_Ext-3C-R_Ext-4R!H-R_N-Sp-4R!H-1C_Ext-4R!H-R_Ext-5R!H-R_Ext-5R!H-R_Sp-6R!H-5R!H\n",
    "        L3: Root_Ext-3C-R_Ext-4R!H-R_N-Sp-4R!H-1C_Ext-4R!H-R_Ext-5R!H-R_Ext-5R!H-R_N-Sp-6R!H-5R!H\n",
    "\"\"\"\n",
    ")"
   ]
  },
  {
   "cell_type": "code",
   "execution_count": null,
   "id": "006b61ce",
   "metadata": {},
   "outputs": [],
   "source": []
  }
 ],
 "metadata": {
  "kernelspec": {
   "display_name": "Python 3",
   "language": "python",
   "name": "python3"
  },
  "language_info": {
   "codemirror_mode": {
    "name": "ipython",
    "version": 3
   },
   "file_extension": ".py",
   "mimetype": "text/x-python",
   "name": "python",
   "nbconvert_exporter": "python",
   "pygments_lexer": "ipython3",
   "version": "3.7.10"
  }
 },
 "nbformat": 4,
 "nbformat_minor": 5
}
