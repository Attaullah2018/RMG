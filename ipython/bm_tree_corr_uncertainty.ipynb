{
 "cells": [
  {
   "cell_type": "markdown",
   "id": "944c60ed",
   "metadata": {},
   "source": [
    "# Estimating Correlated Uncertainty from Fitted Blowers-Masel Trees\n"
   ]
  },
  {
   "cell_type": "markdown",
   "id": "faebbbe2",
   "metadata": {},
   "source": [
    "For each node in the kinetics rate rule family tree, we want to know how it depends on each training reaction.\n",
    "\n",
    "<img src=\"bm_tree_derivative_fig.png\" width=\"500\">"
   ]
  },
  {
   "cell_type": "markdown",
   "id": "77af6e26",
   "metadata": {},
   "source": [
    "Sensitivity S is the relative change in output $y$ over a given relative change in input $x$:\n",
    "$$S = \\frac{\\frac{dy}{y}}{\\frac{dx}{x}} = \\frac{\\frac{y_{perturbed} - y}{y}}{\\frac{x_{perturbed} - x}{x}} $$\n",
    "\n",
    "$$S = \\frac{dy}{dx}\\cdot \\frac{x}{y} $$\n",
    "\n",
    "Define the scale factor $a$:\n",
    "$$x_{perturbed} = ax$$\n",
    "\n",
    "$$x_{perturbed} = (a-1)x + x$$\n",
    "\n",
    "$$x_{perturbed} - x = (a-1)x$$\n",
    "\n",
    "$$\\frac{x_{perturbed} - x}{x} = a - 1$$\n",
    "\n",
    "$$\\frac{dx}{x} = a - 1$$\n",
    "\n",
    "$$S = \\frac{\\frac{dy}{y}}{a - 1}$$\n",
    "\n",
    "$$S = \\frac{d\\ln(y)}{a - 1}$$"
   ]
  },
  {
   "cell_type": "code",
   "execution_count": 1,
   "id": "bbe413e0",
   "metadata": {},
   "outputs": [],
   "source": [
    "import json\n",
    "\n",
    "from rmgpy.molecule.molecule import *\n",
    "from rmgpy.species import *\n",
    "from rmgpy.data.rmg import RMGDatabase\n",
    "from rmgpy.species import Species\n",
    "from rmgpy import settings\n",
    "\n",
    "import rmgpy\n",
    "from rmgpy import chemkin\n",
    "import numpy as np\n",
    "from copy import deepcopy\n",
    "import csv\n",
    "from rmgpy.molecule.molecule import *\n",
    "from rmgpy.species import *\n",
    "from rmgpy.chemkin import *\n",
    "import rmgpy.kinetics as _kinetics\n",
    "from rmgpy.data.rmg import RMGDatabase\n",
    "from IPython.display import display\n",
    "from rmgpy.data.thermo import ThermoLibrary\n",
    "from rmgpy.rmg.react import react\n",
    "from rmgpy.species import Species\n",
    "from rmgpy.reaction import Reaction\n",
    "from rmgpy.data.rmg import get_db\n",
    "from rmgpy.exceptions import UndeterminableKineticsError, ActionError\n",
    "from rmgpy.data.base import LogicOr\n",
    "from itertools import product\n",
    "from rmgpy.molecule.group import Group\n",
    "from rmgpy.kinetics.arrhenius import ArrheniusBM\n",
    "import time\n",
    "import scipy.special as special\n",
    "import matplotlib.pyplot as plt\n",
    "import matplotlib\n",
    "matplotlib.use('TkAgg')\n",
    "%matplotlib inline"
   ]
  },
  {
   "cell_type": "code",
   "execution_count": 2,
   "id": "b2d077e9",
   "metadata": {},
   "outputs": [],
   "source": [
    "## Load the database\n",
    "database = RMGDatabase()\n",
    "database.load(path=settings['database.directory'],\n",
    "              thermo_libraries=['Klippenstein_Glarborg2016', 'BurkeH2O2', 'thermo_DFT_CCSDTF12_BAC',\n",
    "                                'DFT_QCI_thermo', 'primaryThermoLibrary', 'primaryNS', 'NitrogenCurran',\n",
    "                                'NOx2018', 'FFCM1(-)', 'SulfurLibrary', 'SulfurGlarborgH2S', 'SABIC_aromatics'],\n",
    "              transport_libraries=[],\n",
    "              reaction_libraries=[],\n",
    "              seed_mechanisms=[],  # ['BurkeH2O2inN2','ERC-FoundationFuelv0.9'],\n",
    "              kinetics_families='all',\n",
    "              kinetics_depositories=['training'],\n",
    "              depository=False,  # Don't bother loading the depository information, as we don't use it\n",
    "              )"
   ]
  },
  {
   "cell_type": "code",
   "execution_count": 3,
   "id": "39e976d2",
   "metadata": {},
   "outputs": [
    {
     "name": "stderr",
     "output_type": "stream",
     "text": [
      "ERROR:root:4.0\n",
      "ERROR:root:iter_max achieved terminating early\n",
      "ERROR:root:iter_max achieved terminating early\n",
      "ERROR:root:iter_max achieved terminating early\n"
     ]
    },
    {
     "name": "stdout",
     "output_type": "stream",
     "text": [
      "Group Entries: 7\n"
     ]
    },
    {
     "name": "stderr",
     "output_type": "stream",
     "text": [
      "/home/moon/anaconda3/envs/rmg_env/lib/python3.7/site-packages/scipy/optimize/minpack.py:829: OptimizeWarning: Covariance of the parameters could not be estimated\n",
      "  category=OptimizeWarning)\n",
      "/home/moon/anaconda3/envs/rmg_env/lib/python3.7/site-packages/numpy/core/fromnumeric.py:2920: RuntimeWarning: Mean of empty slice.\n",
      "  out=out, **kwargs)\n",
      "/home/moon/anaconda3/envs/rmg_env/lib/python3.7/site-packages/numpy/core/_methods.py:85: RuntimeWarning: invalid value encountered in double_scalars\n",
      "  ret = ret.dtype.type(ret / rcount)\n"
     ]
    }
   ],
   "source": [
    "## Make the kinetics rate rule tree\n",
    "\n",
    "family = database.kinetics.families[\"Singlet_Carbene_Intra_Disproportionation\"]\n",
    "family.clean_tree()\n",
    "\n",
    "family.generate_tree(thermo_database=database.thermo,\n",
    "                     nprocs=1,\n",
    "                     new_fraction_threshold_to_reopt_node=0.25,\n",
    "                     max_batch_size=800,\n",
    "                     extension_iter_max=2,\n",
    "                     extension_iter_item_cap=100)\n",
    "\n",
    "print(f\"Group Entries: {len(family.groups.entries)}\")\n",
    "family.check_tree()\n",
    "family.regularize(thermo_database=database.thermo)\n",
    "templateRxnMap = family.get_reaction_matches(thermo_database=database.thermo, remove_degeneracy=True,\n",
    "                                             get_reverse=True, exact_matches_only=False, fix_labels=True)\n",
    "\n",
    "family.clean_tree_rules()\n",
    "family.make_bm_rules_from_template_rxn_map(templateRxnMap, compute_derivatives=True)"
   ]
  },
  {
   "cell_type": "code",
   "execution_count": 4,
   "id": "600782c6",
   "metadata": {},
   "outputs": [
    {
     "name": "stdout",
     "output_type": "stream",
     "text": [
      "BM rule fitted to 4 training reactions at node Root\n",
      "Total Standard Deviation in ln(k): 10.36278215827023\n",
      "sensitivities = [{'dA': 1.8247496653508206, 'dA_only': 0.24875838120195204, 'dE0': 0.016132776348803134, 'dn': 0.10287118920366971, 'name': 'C6H6 <=> C6H6-2'}, {'dA': 10.055771392786985, 'dA_only': 0.2487583794888335, 'dE0': 0.10035185774911373, 'dn': 0.6401543223885622, 'name': 'C6H6-3 <=> C6H6-4'}, {'dA': -6.69988618766481, 'dA_only': 0.2487583825264037, 'dE0': -0.07113838119125103, 'dn': -0.4535720886983746, 'name': '[C]1C=CC=CC1 <=> C6H6-5'}, {'dA': -4.16854947585534, 'dA_only': 0.2487583573007155, 'dE0': -0.04522174937811837, 'dn': -0.2883380707056535, 'name': '[C]1C=CCC=C1 <=> C6H6-7'}]\n",
      "BM rule fitted to 2 training reactions at node Root_Ext-3C-R_Ext-4R!H-R_Sp-4R!H-1C\n",
      "Total Standard Deviation in ln(k): 9.762079318807448\n",
      "sensitivities = [{'dA': 0.49758109837334485, 'dA_only': 0.4975167682368382, 'dE0': 0.0, 'dn': -3.179755327536881e-06, 'name': 'C6H6 <=> C6H6-2'}, {'dA': 0.49755635650958707, 'dA_only': 0.4975164507967196, 'dE0': 0.0, 'dn': -1.9623655044783626e-06, 'name': 'C6H6-3 <=> C6H6-4'}]\n",
      "BM rule fitted to 2 training reactions at node Root_Ext-3C-R_Ext-4R!H-R_N-Sp-4R!H-1C\n",
      "Total Standard Deviation in ln(k): 14.903532113840376\n",
      "sensitivities = [{'dA': 0.497575916415371, 'dA_only': 0.4975165573071645, 'dE0': -0.0, 'dn': -1.1928162318367626e-06, 'name': '[C]1C=CC=CC1 <=> C6H6-5'}, {'dA': 0.4975270626641044, 'dA_only': 0.4975165412350431, 'dE0': -0.0, 'dn': -2.108541849384153e-07, 'name': '[C]1C=CCC=C1 <=> C6H6-7'}]\n",
      "BM rule fitted to 1 training reactions at node Root_Ext-3C-R_Ext-4R!H-R_Sp-4R!H-1C_Ext-4R!H-R_Ext-4R!H-R\n",
      "Total Standard Deviation in ln(k): 11.540182761524994\n",
      "sensitivities = [{'dA': 0.9950330853168756, 'dA_only': 0.9950330853168756, 'dE0': 0.0, 'dn': 0.0, 'name': 'C6H6 <=> C6H6-2'}]\n",
      "BM rule fitted to 1 training reactions at node Root_Ext-3C-R_Ext-4R!H-R_N-Sp-4R!H-1C_Ext-4R!H-R_Ext-5R!H-R_Ext-5R!H-R_Sp-6R!H-5R!H\n",
      "Total Standard Deviation in ln(k): 11.540182761524994\n",
      "sensitivities = [{'dA': 0.9950330853165203, 'dA_only': 0.9950330853165203, 'dE0': 0.0, 'dn': -0.0, 'name': '[C]1C=CC=CC1 <=> C6H6-5'}]\n",
      "BM rule fitted to 1 training reactions at node Root_Ext-3C-R_Ext-4R!H-R_N-Sp-4R!H-1C_Ext-4R!H-R_Ext-5R!H-R_Ext-5R!H-R_N-Sp-6R!H-5R!H\n",
      "Total Standard Deviation in ln(k): 11.540182761524994\n",
      "sensitivities = [{'dA': 0.9950330853168756, 'dA_only': 0.9950330853168756, 'dE0': 0.0, 'dn': -0.0, 'name': '[C]1C=CCC=C1 <=> C6H6-7'}]\n"
     ]
    }
   ],
   "source": [
    "## unpack the sensitivites\n",
    "derivatives = {}\n",
    "for key in family.rules.entries.keys():\n",
    "    entry = family.rules.entries[key]\n",
    "    \n",
    "    if len(entry) == 0:\n",
    "        derivatives[key] = []\n",
    "        continue\n",
    "    entry = entry[0]\n",
    "    print(entry.long_desc)\n",
    "    start_str = 'sensitivities = '\n",
    "    start_index = entry.long_desc.find(start_str) + len(start_str)\n",
    "    sensitivities_str = entry.long_desc[start_index:].replace(\"'\", '\"')\n",
    "    derivatives[key] = json.loads(sensitivities_str)"
   ]
  },
  {
   "cell_type": "code",
   "execution_count": 5,
   "id": "6b05e6ee",
   "metadata": {},
   "outputs": [
    {
     "name": "stdout",
     "output_type": "stream",
     "text": [
      "Root\n",
      "\t C6H6 <=> C6H6-2 \tdA_node/dA_train= 1.8247496653508206 0.24875838120195204 0.016132776348803134 0.10287118920366971\n",
      "\t C6H6-3 <=> C6H6-4 \tdA_node/dA_train= 10.055771392786985 0.2487583794888335 0.10035185774911373 0.6401543223885622\n",
      "\t [C]1C=CC=CC1 <=> C6H6-5 \tdA_node/dA_train= -6.69988618766481 0.2487583825264037 -0.07113838119125103 -0.4535720886983746\n",
      "\t [C]1C=CCC=C1 <=> C6H6-7 \tdA_node/dA_train= -4.16854947585534 0.2487583573007155 -0.04522174937811837 -0.2883380707056535\n",
      "Root_Ext-3C-R_Ext-4R!H-R_Sp-4R!H-1C\n",
      "\t C6H6 <=> C6H6-2 \tdA_node/dA_train= 0.49758109837334485 0.4975167682368382 0.0 -3.179755327536881e-06\n",
      "\t C6H6-3 <=> C6H6-4 \tdA_node/dA_train= 0.49755635650958707 0.4975164507967196 0.0 -1.9623655044783626e-06\n",
      "Root_Ext-3C-R_Ext-4R!H-R_N-Sp-4R!H-1C\n",
      "\t [C]1C=CC=CC1 <=> C6H6-5 \tdA_node/dA_train= 0.497575916415371 0.4975165573071645 -0.0 -1.1928162318367626e-06\n",
      "\t [C]1C=CCC=C1 <=> C6H6-7 \tdA_node/dA_train= 0.4975270626641044 0.4975165412350431 -0.0 -2.108541849384153e-07\n",
      "Root_Ext-3C-R_Ext-4R!H-R_Sp-4R!H-1C_Ext-4R!H-R_Ext-4R!H-R\n",
      "\t C6H6 <=> C6H6-2 \tdA_node/dA_train= 0.9950330853168756 0.9950330853168756 0.0 0.0\n",
      "Root_Ext-3C-R_Ext-4R!H-R_N-Sp-4R!H-1C_Ext-4R!H-R_Ext-5R!H-R_Ext-5R!H-R_Sp-6R!H-5R!H\n",
      "\t [C]1C=CC=CC1 <=> C6H6-5 \tdA_node/dA_train= 0.9950330853165203 0.9950330853165203 0.0 -0.0\n",
      "Root_Ext-3C-R_Ext-4R!H-R_N-Sp-4R!H-1C_Ext-4R!H-R_Ext-5R!H-R_Ext-5R!H-R_N-Sp-6R!H-5R!H\n",
      "\t [C]1C=CCC=C1 <=> C6H6-7 \tdA_node/dA_train= 0.9950330853168756 0.9950330853168756 0.0 -0.0\n"
     ]
    }
   ],
   "source": [
    "# list the training reactions\n",
    "for key in family.rules.entries.keys():\n",
    "    entry = family.rules.entries[key]\n",
    "    if len(entry) == 0:\n",
    "        continue\n",
    "    print(entry[0])\n",
    "    for i, rxn in enumerate(templateRxnMap[key]):\n",
    "        print('\\t', rxn, f'\\tdA_node/dA_train=', derivatives[key][i]['dA'], derivatives[key][i]['dA_only'], derivatives[key][i]['dE0'], derivatives[key][i]['dn']) # derivatives[key][i]['name'])"
   ]
  },
  {
   "cell_type": "markdown",
   "id": "01ce2a10",
   "metadata": {},
   "source": [
    "## Try to visualize the fitting"
   ]
  },
  {
   "cell_type": "code",
   "execution_count": 6,
   "id": "d07d31d5",
   "metadata": {},
   "outputs": [
    {
     "name": "stdout",
     "output_type": "stream",
     "text": [
      "ArrheniusBM(A=(4.66894e+13,'s^-1'), n=-1.27142, w0=(539000,'J/mol'), E0=(78261.5,'J/mol'), Tmin=(303.03,'K'), Tmax=(2000,'K'), uncertainty=RateUncertainty(mu=0.0, var=33.13686319048999, Tref=1000.0, N=1, data_mean=0.0, correlation='Root_Ext-3C-R_Ext-4R!H-R_N-Sp-4R!H-1C_Ext-4R!H-R_Ext-5R!H-R_Ext-5R!H-R_N-Sp-6R!H-5R!H',), comment=\"\"\"BM rule fitted to 1 training reactions at node Root_Ext-3C-R_Ext-4R!H-R_N-Sp-4R!H-1C_Ext-4R!H-R_Ext-5R!H-R_Ext-5R!H-R_N-Sp-6R!H-5R!H\n",
      "Total Standard Deviation in ln(k): 11.540182761524994\"\"\")\n",
      "Arrhenius(A=(4.66894e+13,'s^-1'), n=-1.27142, Ea=(26.2576,'kJ/mol'), T0=(1,'K'), Tmin=(303.03,'K'), Tmax=(2000,'K'), comment=\"\"\"Fitted to 29 data points; dA = *|/ 2.02337, dn = +|- 0.093302, dEa = +|- 0.487763 kJ/mol\"\"\")\n"
     ]
    },
    {
     "data": {
      "image/png": "[encoded data removed]",
      "text/plain": [
       "<Figure size 432x288 with 1 Axes>"
      ]
     },
     "metadata": {
      "needs_background": "light"
     },
     "output_type": "display_data"
    }
   ],
   "source": [
    "import matplotlib.pyplot as plt\n",
    "# Plot ln(k) vs 1/T\n",
    "\n",
    "# Try this node first because it makes the most sense\n",
    "#Root_Ext-3C-R_Ext-4R!H-R_Sp-4R!H-1C\n",
    "# C6H6 <=> C6H6-2 \tdA_node/dA_train= 0.4975766477373962 -37.666938775510175 -2.9668649057030526e-06\n",
    "# C6H6-3 <=> C6H6-4 \tdA_node/dA_train= 0.4975143957435253 -98.40868274582552 1.0933643724307169e-07\n",
    "\n",
    "# Get this training reaction C6H6 <=> C6H6-2\n",
    "node_name = 'Root_Ext-3C-R_Ext-4R!H-R_N-Sp-4R!H-1C_Ext-4R!H-R_Ext-5R!H-R_Ext-5R!H-R_N-Sp-6R!H-5R!H'  # one training reaction\n",
    "# node_name = 'Root_Ext-3C-R_Ext-4R!H-R_Sp-4R!H-1C'  # two training reactions\n",
    "# node_name = 'Root'  # four training reactions\n",
    "\n",
    "\n",
    "Tmin = 300\n",
    "Tmax = 1500\n",
    "legend = []\n",
    "\n",
    "    \n",
    "def estimate_delta_H(T):\n",
    "    dH = 0\n",
    "    for j, training_rxn in enumerate(templateRxnMap[node_name]):\n",
    "        dH += training_rxn.get_enthalpy_of_reaction(T)\n",
    "    return dH / float(len(templateRxnMap[node_name]))\n",
    "\n",
    "\n",
    "# plot the node's ln(k)\n",
    "legend.append(node_name)\n",
    "T = np.linspace(Tmin, Tmax, 100)\n",
    "T_inv = 1.0 / T\n",
    "lnk = np.zeros(len(T))\n",
    "for i, Temp in enumerate(T):\n",
    "    delta_h = estimate_delta_H(Temp)\n",
    "    # delta_h = estimate_delta_H(1110)\n",
    "    lnk[i] = np.log(family.rules.entries[node_name][0].data.get_rate_coefficient(Temp, dHrxn=delta_h))\n",
    "plt.plot(T_inv, lnk)\n",
    "print(family.rules.entries[node_name][0].data)\n",
    "\n",
    "\n",
    "# Plot each training reaction's ln(k)\n",
    "for training_rxn in templateRxnMap[node_name]:\n",
    "    legend.append(str(training_rxn))\n",
    "    for i, Temp in enumerate(T):\n",
    "        lnk[i] = np.log(training_rxn.kinetics.get_rate_coefficient(Temp))\n",
    "    print(training_rxn.kinetics)\n",
    "    plt.plot(T_inv, lnk)\n",
    "\n",
    "\n",
    "plt.ylabel('ln(k)')\n",
    "plt.xlabel('1/T')\n",
    "plt.legend(legend)\n",
    "plt.show()"
   ]
  },
  {
   "cell_type": "code",
   "execution_count": null,
   "id": "fff9dc20",
   "metadata": {},
   "outputs": [],
   "source": [
    "# node kinetics\n",
    "\n",
    "# dir(family.rules.entries[node_name][0].item)\n",
    "\n",
    "T = 300\n",
    "P = 1013250\n",
    "training_rxn.kinetics.get_rate_coefficient(T)\n"
   ]
  },
  {
   "cell_type": "code",
   "execution_count": null,
   "id": "31c204f3",
   "metadata": {},
   "outputs": [],
   "source": [
    "family.rules.entries[node_name][0].data"
   ]
  },
  {
   "cell_type": "code",
   "execution_count": null,
   "id": "7c0108cd",
   "metadata": {},
   "outputs": [],
   "source": [
    "print(type(family.rules.entries[node_name][0].data))\n",
    "dir(family.groups.entries[node_name].item)"
   ]
  },
  {
   "cell_type": "code",
   "execution_count": null,
   "id": "847efa40",
   "metadata": {},
   "outputs": [],
   "source": [
    "templateRxnMap['Root'][1]"
   ]
  },
  {
   "cell_type": "code",
   "execution_count": null,
   "id": "3393af58",
   "metadata": {},
   "outputs": [],
   "source": [
    "family.rules.entries"
   ]
  },
  {
   "cell_type": "code",
   "execution_count": null,
   "id": "8d55b92e",
   "metadata": {},
   "outputs": [],
   "source": [
    "family.groups.entries['Root_Ext-3C-R_Ext-4R!H-R_Sp-4R!H-1C'].item"
   ]
  },
  {
   "cell_type": "code",
   "execution_count": null,
   "id": "173ecff6",
   "metadata": {},
   "outputs": [],
   "source": []
  },
  {
   "cell_type": "code",
   "execution_count": null,
   "id": "41dead08",
   "metadata": {},
   "outputs": [],
   "source": []
  }
 ],
 "metadata": {
  "kernelspec": {
   "display_name": "Python 3",
   "language": "python",
   "name": "python3"
  },
  "language_info": {
   "codemirror_mode": {
    "name": "ipython",
    "version": 3
   },
   "file_extension": ".py",
   "mimetype": "text/x-python",
   "name": "python",
   "nbconvert_exporter": "python",
   "pygments_lexer": "ipython3",
   "version": "3.7.10"
  }
 },
 "nbformat": 4,
 "nbformat_minor": 5
}
