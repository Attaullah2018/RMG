{
 "cells": [
  {
   "cell_type": "markdown",
   "id": "944c60ed",
   "metadata": {},
   "source": [
    "# Estimating Correlated Uncertainty from Fitted Blowers-Masel Trees\n"
   ]
  },
  {
   "cell_type": "markdown",
   "id": "37005077",
   "metadata": {},
   "source": [
    "## Overview"
   ]
  },
  {
   "cell_type": "markdown",
   "id": "faebbbe2",
   "metadata": {},
   "source": [
    "For each node in the kinetics rate rule family tree, we want to know how it depends on each training reaction.\n",
    "\n",
    "<img src=\"new_trees.png\" width=\"500\">"
   ]
  },
  {
   "cell_type": "markdown",
   "id": "77af6e26",
   "metadata": {},
   "source": [
    "## Computing Sensitivity\n",
    "\n",
    "Sensitivity S is the relative change in output $y$ over a given relative change in input $x$:\n",
    "$$S = \\frac{\\frac{dy}{y}}{\\frac{dx}{x}} = \\frac{\\frac{y_{perturbed} - y}{y}}{\\frac{x_{perturbed} - x}{x}} $$\n",
    "\n",
    "$$S = \\frac{dy}{dx}\\cdot \\frac{x}{y} $$\n",
    "\n",
    "Define the scale factor $a$:\n",
    "$$x_{perturbed} = ax$$\n",
    "\n",
    "$$x_{perturbed} = (a-1)x + x$$\n",
    "\n",
    "$$x_{perturbed} - x = (a-1)x$$\n",
    "\n",
    "$$\\frac{x_{perturbed} - x}{x} = a - 1$$\n",
    "\n",
    "$$\\frac{dx}{x} = a - 1$$\n",
    "\n",
    "$$S = \\frac{\\frac{dy}{y}}{a - 1}$$\n",
    "\n",
    "$$S = \\frac{d\\ln(y)}{a - 1}$$"
   ]
  },
  {
   "cell_type": "markdown",
   "id": "ec81b780",
   "metadata": {},
   "source": [
    "# Generate the family tree"
   ]
  },
  {
   "cell_type": "code",
   "execution_count": 1,
   "id": "bbe413e0",
   "metadata": {},
   "outputs": [],
   "source": [
    "## Imports\n",
    "\n",
    "import json\n",
    "\n",
    "from rmgpy.molecule.molecule import *\n",
    "from rmgpy.species import *\n",
    "from rmgpy.data.rmg import RMGDatabase\n",
    "from rmgpy.species import Species\n",
    "from rmgpy import settings\n",
    "\n",
    "import rmgpy\n",
    "from rmgpy import chemkin\n",
    "import numpy as np\n",
    "from copy import deepcopy\n",
    "import csv\n",
    "from rmgpy.molecule.molecule import *\n",
    "from rmgpy.species import *\n",
    "from rmgpy.chemkin import *\n",
    "import rmgpy.kinetics as _kinetics\n",
    "from rmgpy.data.rmg import RMGDatabase\n",
    "from IPython.display import display\n",
    "from rmgpy.data.thermo import ThermoLibrary\n",
    "from rmgpy.rmg.react import react\n",
    "from rmgpy.species import Species\n",
    "from rmgpy.reaction import Reaction\n",
    "from rmgpy.data.rmg import get_db\n",
    "from rmgpy.exceptions import UndeterminableKineticsError, ActionError\n",
    "from rmgpy.data.base import LogicOr\n",
    "from itertools import product\n",
    "from rmgpy.molecule.group import Group\n",
    "from rmgpy.kinetics.arrhenius import ArrheniusBM\n",
    "import time\n",
    "import scipy.special as special\n",
    "import matplotlib.pyplot as plt\n",
    "import matplotlib\n",
    "matplotlib.use('TkAgg')\n",
    "%matplotlib inline"
   ]
  },
  {
   "cell_type": "code",
   "execution_count": 2,
   "id": "b2d077e9",
   "metadata": {},
   "outputs": [],
   "source": [
    "## Load the database\n",
    "database = RMGDatabase()\n",
    "database.load(path=settings['database.directory'],\n",
    "              thermo_libraries=['Klippenstein_Glarborg2016', 'BurkeH2O2', 'thermo_DFT_CCSDTF12_BAC',\n",
    "                                'DFT_QCI_thermo', 'primaryThermoLibrary', 'primaryNS', 'NitrogenCurran',\n",
    "                                'NOx2018', 'FFCM1(-)', 'SulfurLibrary', 'SulfurGlarborgH2S', 'SABIC_aromatics'],\n",
    "              transport_libraries=[],\n",
    "              reaction_libraries=[],\n",
    "              seed_mechanisms=[],  # ['BurkeH2O2inN2','ERC-FoundationFuelv0.9'],\n",
    "              kinetics_families= ['Singlet_Carbene_Intra_Disproportionation'], # 'all'\n",
    "              kinetics_depositories=['training'],\n",
    "              depository=False,  # Don't bother loading the depository information, as we don't use it\n",
    "              )"
   ]
  },
  {
   "cell_type": "code",
   "execution_count": 3,
   "id": "39e976d2",
   "metadata": {},
   "outputs": [
    {
     "name": "stderr",
     "output_type": "stream",
     "text": [
      "ERROR:root:4.0\n",
      "ERROR:root:iter_max achieved terminating early\n",
      "ERROR:root:iter_max achieved terminating early\n",
      "ERROR:root:iter_max achieved terminating early\n"
     ]
    },
    {
     "name": "stdout",
     "output_type": "stream",
     "text": [
      "Group Entries: 7\n"
     ]
    }
   ],
   "source": [
    "## Make the kinetics rate rule tree\n",
    "\n",
    "family = database.kinetics.families[\"Singlet_Carbene_Intra_Disproportionation\"]\n",
    "family.clean_tree()\n",
    "\n",
    "family.generate_tree(thermo_database=database.thermo,\n",
    "                     nprocs=1,\n",
    "                     new_fraction_threshold_to_reopt_node=0.25,\n",
    "                     max_batch_size=800,\n",
    "                     extension_iter_max=2,\n",
    "                     extension_iter_item_cap=100)\n",
    "\n",
    "print(f\"Group Entries: {len(family.groups.entries)}\")\n",
    "family.check_tree()\n",
    "family.regularize(thermo_database=database.thermo)\n",
    "templateRxnMap = family.get_reaction_matches(thermo_database=database.thermo, remove_degeneracy=True,\n",
    "                                             get_reverse=True, exact_matches_only=False, fix_labels=True)\n"
   ]
  },
  {
   "cell_type": "markdown",
   "id": "eebf9e5c",
   "metadata": {},
   "source": [
    "## Fit nodes to training reactions and compute sensitivites"
   ]
  },
  {
   "cell_type": "code",
   "execution_count": 4,
   "id": "d363ecd2",
   "metadata": {},
   "outputs": [
    {
     "name": "stderr",
     "output_type": "stream",
     "text": [
      "/home/moon/anaconda3/envs/rmg_env/lib/python3.7/site-packages/numpy/core/fromnumeric.py:2920: RuntimeWarning: Mean of empty slice.\n",
      "  out=out, **kwargs)\n",
      "/home/moon/anaconda3/envs/rmg_env/lib/python3.7/site-packages/numpy/core/_methods.py:85: RuntimeWarning: invalid value encountered in double_scalars\n",
      "  ret = ret.dtype.type(ret / rcount)\n",
      "/home/moon/anaconda3/envs/rmg_env/lib/python3.7/site-packages/scipy/optimize/minpack.py:829: OptimizeWarning: Covariance of the parameters could not be estimated\n",
      "  category=OptimizeWarning)\n",
      "/home/moon/rmg/RMG-Py/rmgpy/data/kinetics/family.py:4740: RuntimeWarning: invalid value encountered in log\n",
      "  sensitivity_E0_only = (np.log(kin_perturbed_onlyE0.E0.value_si) - np.log(kin.E0.value_si)) / (SCALE_FACTOR - 1)\n"
     ]
    }
   ],
   "source": [
    "family.clean_tree_rules()\n",
    "family.make_bm_rules_from_template_rxn_map(templateRxnMap, compute_derivatives=True)"
   ]
  },
  {
   "cell_type": "code",
   "execution_count": 5,
   "id": "600782c6",
   "metadata": {
    "scrolled": true
   },
   "outputs": [],
   "source": [
    "## unpack the sensitivites from the long description\n",
    "derivatives = {}\n",
    "for key in family.rules.entries.keys():\n",
    "    entry = family.rules.entries[key]\n",
    "    \n",
    "    if len(entry) == 0:\n",
    "        derivatives[key] = []\n",
    "        continue\n",
    "    entry = entry[0]\n",
    "    # print(entry.long_desc)\n",
    "    start_str = 'sensitivities = '\n",
    "    start_index = entry.long_desc.find(start_str) + len(start_str)\n",
    "    sensitivities_str = entry.long_desc[start_index:].replace(\"'\", '\"')\n",
    "    sensitivities_str = sensitivities_str.replace(\"nan\", '\"-9999999\"')\n",
    "    # print(sensitivities_str)\n",
    "    derivatives[key] = json.loads(sensitivities_str)"
   ]
  },
  {
   "cell_type": "code",
   "execution_count": 6,
   "id": "58a77cb4",
   "metadata": {},
   "outputs": [
    {
     "data": {
      "text/plain": [
       "1"
      ]
     },
     "execution_count": 6,
     "metadata": {},
     "output_type": "execute_result"
    }
   ],
   "source": [
    "family.rules.entries['Root'][0].index"
   ]
  },
  {
   "cell_type": "code",
   "execution_count": 15,
   "id": "39585ce1",
   "metadata": {},
   "outputs": [
    {
     "name": "stdout",
     "output_type": "stream",
     "text": [
      "0 Root\n",
      "1 \t Root_Ext-3C-R_Ext-4R!H-R_Sp-4R!H-1C\n",
      "3 \t\t Root_Ext-3C-R_Ext-4R!H-R_Sp-4R!H-1C_Ext-4R!H-R_Ext-4R!H-R\n",
      "2 \t Root_Ext-3C-R_Ext-4R!H-R_N-Sp-4R!H-1C\n",
      "4 \t\t Root_Ext-3C-R_Ext-4R!H-R_N-Sp-4R!H-1C_Ext-4R!H-R_Ext-5R!H-R_Ext-5R!H-R_Sp-6R!H-5R!H\n",
      "5 \t\t Root_Ext-3C-R_Ext-4R!H-R_N-Sp-4R!H-1C_Ext-4R!H-R_Ext-5R!H-R_Ext-5R!H-R_N-Sp-6R!H-5R!H\n"
     ]
    }
   ],
   "source": [
    "## Try to visualize the tree\n",
    "print(family.groups.entries['Root'].index, family.rules.entries['Root'][0])\n",
    "for child in family.groups.entries['Root'].children:\n",
    "    print(child.index, \"\\t\", child)\n",
    "    for grandchild in child.children:\n",
    "        print(grandchild.index, \"\\t\\t\", grandchild)\n",
    "        for greatgrandchild in grandchild.children:\n",
    "            print(greatgrandchild.index, \"\\t\\t\\t\", greatgrandchild)\n",
    "\n",
    "            \n"
   ]
  },
  {
   "cell_type": "markdown",
   "id": "fe13bae4",
   "metadata": {},
   "source": [
    "### Singlet_Carbene_Intra_Disproportionation\n",
    "<img src=\"labeled_nodes.png\" width=\"250\">"
   ]
  },
  {
   "cell_type": "code",
   "execution_count": 46,
   "id": "6b05e6ee",
   "metadata": {},
   "outputs": [
    {
     "name": "stdout",
     "output_type": "stream",
     "text": [
      "Normalized Sensitivities with freely varying partial derivatives\n",
      "\n",
      "# Node\tTraining Reaction\t\tdA_node/dA_train\tdE0_node/dA_train\tdn_node/dA_train\n",
      "0 Root\n",
      "\t C6H6 <=> C6H6-2           \t\t1.844369 \t\t0.016316 \t\t0.104084\n",
      "\t C6H6-3 <=> C6H6-4         \t\t10.106165 \t\t0.100870 \t\t0.643379\n",
      "\t [C]1C=CC=CC1 <=> C6H6-5   \t\t-6.721413 \t\t-0.071365 \t\t-0.455045\n",
      "\t [C]1C=CCC=C1 <=> C6H6-7   \t\t-4.178835 \t\t-0.045337 \t\t-0.289080\n",
      "\n",
      "1 Root_Ext-3C-R_Ext-4R!H-R_Sp-4R!H-1C\n",
      "\t C6H6 <=> C6H6-2           \t\t0.500646 \t\t0.000000 \t\t-0.000044\n",
      "\t C6H6-3 <=> C6H6-4         \t\t0.499933 \t\t0.000000 \t\t-0.000009\n",
      "\n",
      "2 Root_Ext-3C-R_Ext-4R!H-R_N-Sp-4R!H-1C\n",
      "\t [C]1C=CC=CC1 <=> C6H6-5   \t\t0.499719 \t\t-0.000000 \t\t0.000001\n",
      "\t [C]1C=CCC=C1 <=> C6H6-7   \t\t0.500194 \t\t-0.000000 \t\t-0.000009\n",
      "\n",
      "3 Root_Ext-3C-R_Ext-4R!H-R_Sp-4R!H-1C_Ext-4R!H-R_Ext-4R!H-R\n",
      "\t C6H6 <=> C6H6-2           \t\t0.999500 \t\t0.000000 \t\t0.000000\n",
      "\n",
      "4 Root_Ext-3C-R_Ext-4R!H-R_N-Sp-4R!H-1C_Ext-4R!H-R_Ext-5R!H-R_Ext-5R!H-R_Sp-6R!H-5R!H\n",
      "\t [C]1C=CC=CC1 <=> C6H6-5   \t\t0.999500 \t\t0.000000 \t\t-0.000000\n",
      "\n",
      "5 Root_Ext-3C-R_Ext-4R!H-R_N-Sp-4R!H-1C_Ext-4R!H-R_Ext-5R!H-R_Ext-5R!H-R_N-Sp-6R!H-5R!H\n",
      "\t [C]1C=CCC=C1 <=> C6H6-7   \t\t0.999500 \t\t0.000000 \t\t-0.000000\n",
      "\n"
     ]
    }
   ],
   "source": [
    "# list the training reactions\n",
    "print('Normalized Sensitivities with freely varying partial derivatives\\n')\n",
    "print('# Node\\tTraining Reaction\\t\\tdA_node/dA_train\\tdE0_node/dA_train\\tdn_node/dA_train')\n",
    "\n",
    "for key in family.rules.entries.keys():\n",
    "    entry = family.rules.entries[key]\n",
    "    group_index = family.groups.entries[key].index\n",
    "    if len(entry) == 0:\n",
    "        continue\n",
    "    print(group_index, entry[0])\n",
    "    for i, rxn in enumerate(templateRxnMap[key]):\n",
    "        N = 25\n",
    "        pad_length = N - len(str(rxn))\n",
    "        rxn_str = str(rxn) + \" \" * pad_length        \n",
    "        print('\\t', rxn_str, \"\\t\\t{0:.6f}\".format(derivatives[key][i]['dA']), \"\\t\\t{0:.6f}\".format(derivatives[key][i]['dE0']), \"\\t\\t{0:.6f}\".format(derivatives[key][i]['dn'])) # derivatives[key][i]['name'])\n",
    "        \n",
    "    print()"
   ]
  },
  {
   "cell_type": "code",
   "execution_count": 51,
   "id": "9f4749a2",
   "metadata": {},
   "outputs": [
    {
     "name": "stdout",
     "output_type": "stream",
     "text": [
      "Normalized Sensitivities with fixed partial derivatives\n",
      "\n",
      "# Node\tTraining Reaction\t\tdA_node/dA_train\tdE0_node/dA_train\tdn_node/dA_train\n",
      "0 Root\n",
      "\t C6H6 <=> C6H6-2           \t\t0.249876 \t\t-0.018013\n",
      "\t C6H6-3 <=> C6H6-4         \t\t0.249876 \t\t-0.010901\n",
      "\t [C]1C=CC=CC1 <=> C6H6-5   \t\t0.249876 \t\t-0.025401\n",
      "\t [C]1C=CCC=C1 <=> C6H6-7   \t\t0.249876 \t\t-0.023209\n",
      "\n",
      "1 Root_Ext-3C-R_Ext-4R!H-R_Sp-4R!H-1C\n",
      "\t C6H6 <=> C6H6-2           \t\t0.499753 \t\t0.000000\n",
      "\t C6H6-3 <=> C6H6-4         \t\t0.499752 \t\t0.000000\n",
      "\n",
      "2 Root_Ext-3C-R_Ext-4R!H-R_N-Sp-4R!H-1C\n",
      "\t [C]1C=CC=CC1 <=> C6H6-5   \t\t0.499750 \t\t-9999999.000000\n",
      "\t [C]1C=CCC=C1 <=> C6H6-7   \t\t0.499751 \t\t-9999999.000000\n",
      "\n",
      "3 Root_Ext-3C-R_Ext-4R!H-R_Sp-4R!H-1C_Ext-4R!H-R_Ext-4R!H-R\n",
      "\t C6H6 <=> C6H6-2           \t\t0.999500 \t\t0.000000\n",
      "\n",
      "4 Root_Ext-3C-R_Ext-4R!H-R_N-Sp-4R!H-1C_Ext-4R!H-R_Ext-5R!H-R_Ext-5R!H-R_Sp-6R!H-5R!H\n",
      "\t [C]1C=CC=CC1 <=> C6H6-5   \t\t0.999500 \t\t0.000000\n",
      "\n",
      "5 Root_Ext-3C-R_Ext-4R!H-R_N-Sp-4R!H-1C_Ext-4R!H-R_Ext-5R!H-R_Ext-5R!H-R_N-Sp-6R!H-5R!H\n",
      "\t [C]1C=CCC=C1 <=> C6H6-7   \t\t0.999500 \t\t0.000000\n",
      "\n"
     ]
    }
   ],
   "source": [
    "# list the training reactions\n",
    "print('Normalized Sensitivities with fixed partial derivatives\\n')\n",
    "print('# Node\\tTraining Reaction\\t\\tdA_node/dA_train\\tdE0_node/dA_train\\tdn_node/dA_train')\n",
    "\n",
    "for key in family.rules.entries.keys():\n",
    "    entry = family.rules.entries[key]\n",
    "    group_index = family.groups.entries[key].index\n",
    "    if len(entry) == 0:\n",
    "        continue\n",
    "    print(group_index, entry[0])\n",
    "    for i, rxn in enumerate(templateRxnMap[key]):\n",
    "        N = 25\n",
    "        pad_length = N - len(str(rxn))\n",
    "        rxn_str = str(rxn) + \" \" * pad_length\n",
    "        print('\\t', rxn_str, \"\\t\\t{0:.6f}\".format(derivatives[key][i]['dA_only']), \"\\t\\t{0:.6f}\".format(float(derivatives[key][i]['dE0_only'])))\n",
    "        \n",
    "    print()"
   ]
  },
  {
   "cell_type": "markdown",
   "id": "01ce2a10",
   "metadata": {},
   "source": [
    "## Try to visualize the fitting"
   ]
  },
  {
   "cell_type": "code",
   "execution_count": 59,
   "id": "d07d31d5",
   "metadata": {},
   "outputs": [
    {
     "data": {
      "image/png": "[encoded data removed]",
      "text/plain": [
       "<Figure size 432x288 with 1 Axes>"
      ]
     },
     "metadata": {
      "needs_background": "light"
     },
     "output_type": "display_data"
    }
   ],
   "source": [
    "## Compare Arrhenius plot [ln(k) vs 1/T] for node to training reactions\n",
    "\n",
    "import matplotlib.pyplot as plt\n",
    "\n",
    "\n",
    "# Pick a node to plot\n",
    "# node_name = 'Root_Ext-3C-R_Ext-4R!H-R_N-Sp-4R!H-1C_Ext-4R!H-R_Ext-5R!H-R_Ext-5R!H-R_N-Sp-6R!H-5R!H'  # one training reaction\n",
    "node_name = 'Root_Ext-3C-R_Ext-4R!H-R_Sp-4R!H-1C'  # two training reactions\n",
    "# node_name = 'Root'  # four training reactions\n",
    "\n",
    "\n",
    "Tmin = 300\n",
    "Tmax = 1500\n",
    "legend = []\n",
    "\n",
    "    \n",
    "def estimate_delta_H(T):\n",
    "    dH = 0\n",
    "    for j, training_rxn in enumerate(templateRxnMap[node_name]):\n",
    "        dH += training_rxn.get_enthalpy_of_reaction(T)\n",
    "    return dH / float(len(templateRxnMap[node_name]))\n",
    "\n",
    "\n",
    "# plot the node's ln(k)\n",
    "legend.append(node_name)\n",
    "T = np.linspace(Tmin, Tmax, 100)\n",
    "T_inv = 1.0 / T\n",
    "lnk = np.zeros(len(T))\n",
    "for i, Temp in enumerate(T):\n",
    "    delta_h = estimate_delta_H(Temp)\n",
    "    # delta_h = estimate_delta_H(1000)\n",
    "    lnk[i] = np.log(family.rules.entries[node_name][0].data.get_rate_coefficient(Temp, dHrxn=delta_h))\n",
    "plt.plot(T_inv, lnk)\n",
    "# print(family.rules.entries[node_name][0].data)\n",
    "\n",
    "\n",
    "# Plot each training reaction's ln(k)\n",
    "for training_rxn in templateRxnMap[node_name]:\n",
    "    legend.append(str(training_rxn))\n",
    "    for i, Temp in enumerate(T):\n",
    "        lnk[i] = np.log(training_rxn.kinetics.get_rate_coefficient(Temp))\n",
    "    # print(training_rxn.kinetics)\n",
    "    plt.plot(T_inv, lnk)\n",
    "\n",
    "\n",
    "plt.ylabel('ln(k)')\n",
    "plt.xlabel('1/T')\n",
    "plt.legend(legend)\n",
    "plt.show()"
   ]
  },
  {
   "cell_type": "code",
   "execution_count": null,
   "id": "fff9dc20",
   "metadata": {},
   "outputs": [],
   "source": [
    "# node kinetics\n",
    "\n",
    "# dir(family.rules.entries[node_name][0].item)\n",
    "\n",
    "T = 300\n",
    "P = 1013250\n",
    "training_rxn.kinetics.get_rate_coefficient(T)\n"
   ]
  },
  {
   "cell_type": "code",
   "execution_count": null,
   "id": "31c204f3",
   "metadata": {},
   "outputs": [],
   "source": [
    "family.rules.entries['Root_Ext-3C-R_Ext-4R!H-R_Sp-4R!H-1C'][0].data"
   ]
  },
  {
   "cell_type": "code",
   "execution_count": null,
   "id": "7c0108cd",
   "metadata": {},
   "outputs": [],
   "source": [
    "print(type(family.rules.entries[node_name][0].data))\n",
    "dir(family.groups.entries[node_name].item)"
   ]
  },
  {
   "cell_type": "code",
   "execution_count": null,
   "id": "847efa40",
   "metadata": {},
   "outputs": [],
   "source": [
    "templateRxnMap['Root'][1]"
   ]
  },
  {
   "cell_type": "code",
   "execution_count": null,
   "id": "3393af58",
   "metadata": {},
   "outputs": [],
   "source": [
    "family.rules.entries"
   ]
  },
  {
   "cell_type": "code",
   "execution_count": null,
   "id": "8d55b92e",
   "metadata": {},
   "outputs": [],
   "source": [
    "family.groups.entries['Root_Ext-3C-R_Ext-4R!H-R_Sp-4R!H-1C'].item"
   ]
  },
  {
   "cell_type": "code",
   "execution_count": null,
   "id": "173ecff6",
   "metadata": {},
   "outputs": [],
   "source": []
  },
  {
   "cell_type": "code",
   "execution_count": null,
   "id": "41dead08",
   "metadata": {},
   "outputs": [],
   "source": [
    "# copied from branch     https://github.com/ReactionMechanismGenerator/RMG-database/blob/singlet-carbene-intra-d_tree/input/kinetics/families/Singlet_Carbene_Intra_Disproportionation/groups.py\n",
    "\n",
    "tree(\n",
    "\"\"\"\n",
    "L1: Root\n",
    "    L2: Root_Ext-3C-R_Ext-4R!H-R_Sp-4R!H-1C\n",
    "        L3: Root_Ext-3C-R_Ext-4R!H-R_Sp-4R!H-1C_Ext-4R!H-R_Ext-4R!H-R\n",
    "    L2: Root_Ext-3C-R_Ext-4R!H-R_N-Sp-4R!H-1C\n",
    "        L3: Root_Ext-3C-R_Ext-4R!H-R_N-Sp-4R!H-1C_Ext-4R!H-R_Ext-5R!H-R_Ext-5R!H-R_Sp-6R!H-5R!H\n",
    "        L3: Root_Ext-3C-R_Ext-4R!H-R_N-Sp-4R!H-1C_Ext-4R!H-R_Ext-5R!H-R_Ext-5R!H-R_N-Sp-6R!H-5R!H\n",
    "\"\"\"\n",
    ")"
   ]
  },
  {
   "cell_type": "code",
   "execution_count": null,
   "id": "cf73722b",
   "metadata": {},
   "outputs": [],
   "source": []
  }
 ],
 "metadata": {
  "kernelspec": {
   "display_name": "Python 3",
   "language": "python",
   "name": "python3"
  },
  "language_info": {
   "codemirror_mode": {
    "name": "ipython",
    "version": 3
   },
   "file_extension": ".py",
   "mimetype": "text/x-python",
   "name": "python",
   "nbconvert_exporter": "python",
   "pygments_lexer": "ipython3",
   "version": "3.7.10"
  }
 },
 "nbformat": 4,
 "nbformat_minor": 5
}
